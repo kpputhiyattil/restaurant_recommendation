{
 "cells": [
  {
   "cell_type": "markdown",
   "id": "90bb1e2a",
   "metadata": {
    "id": "90bb1e2a"
   },
   "source": [
    "# Restaurant Recommendation Assist - AI"
   ]
  },
  {
   "cell_type": "markdown",
   "id": "eTECjBM1_t1B",
   "metadata": {
    "id": "eTECjBM1_t1B"
   },
   "source": [
    "#### Problem Statement\n",
    "In today's fast-paced world, people often seek quick and convenient dining options, making restaurants a popular choice. However, with so many restaurants available, customers may find it challenging to discover new options that suit their preferences.\n",
    "<br> To address this issue, we aim to develop a Restaurant Recommendation System. This system will utilize user preferences, such as cuisine type, location, budget, and dietary restrictions, to recommend the most suitable restaurants in 'New York', 'Florida', 'California', 'Pennsylvania', 'Texas' or 'Washington'.\n"
   ]
  },
  {
   "cell_type": "code",
   "execution_count": 1,
   "id": "4541065d",
   "metadata": {},
   "outputs": [],
   "source": [
    "import pandas as pd  # Importing the pandas library for data manipulation\n",
    "import json\n",
    "import requests \n",
    "import pandas as pd\n",
    "from bs4 import BeautifulSoup \n",
    "# Import the libraries\n",
    "import os, json, ast\n",
    "import openai\n",
    "from tenacity import retry, wait_random_exponential, stop_after_attempt"
   ]
  },
  {
   "cell_type": "code",
   "execution_count": 2,
   "id": "1ed7066e",
   "metadata": {},
   "outputs": [
    {
     "data": {
      "text/html": [
       "<div>\n",
       "<style scoped>\n",
       "    .dataframe tbody tr th:only-of-type {\n",
       "        vertical-align: middle;\n",
       "    }\n",
       "\n",
       "    .dataframe tbody tr th {\n",
       "        vertical-align: top;\n",
       "    }\n",
       "\n",
       "    .dataframe thead th {\n",
       "        text-align: right;\n",
       "    }\n",
       "</style>\n",
       "<table border=\"1\" class=\"dataframe\">\n",
       "  <thead>\n",
       "    <tr style=\"text-align: right;\">\n",
       "      <th></th>\n",
       "      <th>id</th>\n",
       "      <th>dateAdded</th>\n",
       "      <th>dateUpdated</th>\n",
       "      <th>address</th>\n",
       "      <th>categories</th>\n",
       "      <th>primaryCategories</th>\n",
       "      <th>city</th>\n",
       "      <th>country</th>\n",
       "      <th>keys</th>\n",
       "      <th>latitude</th>\n",
       "      <th>longitude</th>\n",
       "      <th>name</th>\n",
       "      <th>postalCode</th>\n",
       "      <th>province</th>\n",
       "      <th>sourceURLs</th>\n",
       "      <th>websites</th>\n",
       "      <th>features</th>\n",
       "      <th>state</th>\n",
       "      <th>feature_dict</th>\n",
       "      <th>price range</th>\n",
       "    </tr>\n",
       "  </thead>\n",
       "  <tbody>\n",
       "    <tr>\n",
       "      <th>0</th>\n",
       "      <td>AWrROxTbcuP9ADUBCmQx</td>\n",
       "      <td>2019-05-19T17:54:31Z</td>\n",
       "      <td>2019-05-19T17:54:31Z</td>\n",
       "      <td>198 Central Avenue</td>\n",
       "      <td>Hamburgers and Hot Dogs,American Restaurants,F...</td>\n",
       "      <td>Accommodation &amp; Food Services</td>\n",
       "      <td>White Plains</td>\n",
       "      <td>US</td>\n",
       "      <td>us/ny/whiteplains/198centralavenue/-904778134</td>\n",
       "      <td>41.03715</td>\n",
       "      <td>-73.77877</td>\n",
       "      <td>Nathan's Famous Hot Dogs</td>\n",
       "      <td>10606</td>\n",
       "      <td>NY</td>\n",
       "      <td>https://www.yellowpages.com/white-plains-ny/mi...</td>\n",
       "      <td>http://nathansfamous.com</td>\n",
       "      <td>{'open-hours': 'Do you know the hours for this...</td>\n",
       "      <td>New York</td>\n",
       "      <td>{'open-hours': 'do you know the hours for this...</td>\n",
       "      <td>average</td>\n",
       "    </tr>\n",
       "    <tr>\n",
       "      <th>1</th>\n",
       "      <td>AVweEg_oByjofQCxvA1V</td>\n",
       "      <td>2016-07-06T20:11:39Z</td>\n",
       "      <td>2019-05-19T07:41:13Z</td>\n",
       "      <td>527 Bald Eagle Dr</td>\n",
       "      <td>Caterers,Seafood restaurants,Steak and chop re...</td>\n",
       "      <td>Accommodation &amp; Food Services</td>\n",
       "      <td>Marco Island</td>\n",
       "      <td>US</td>\n",
       "      <td>us/fl/marcoisland/527baldeagledr/-873322027</td>\n",
       "      <td>25.95090</td>\n",
       "      <td>-81.72280</td>\n",
       "      <td>Kretch's Restaurant</td>\n",
       "      <td>34145</td>\n",
       "      <td>FL</td>\n",
       "      <td>https://www.yellowbook.com/profile/kretchs-res...</td>\n",
       "      <td>http://www.kretchs.com,http://kretchs.com/,htt...</td>\n",
       "      <td>{}</td>\n",
       "      <td>Florida</td>\n",
       "      <td>{}</td>\n",
       "      <td>average</td>\n",
       "    </tr>\n",
       "    <tr>\n",
       "      <th>2</th>\n",
       "      <td>AVwdQloekufWRAb54Asw</td>\n",
       "      <td>2016-05-05T12:40:33Z</td>\n",
       "      <td>2019-05-18T23:45:36Z</td>\n",
       "      <td>3121 Yosemite Blvd</td>\n",
       "      <td>Asian Restaurants,Caterers,Chinese Restaurants...</td>\n",
       "      <td>Accommodation &amp; Food Services</td>\n",
       "      <td>Modesto</td>\n",
       "      <td>US</td>\n",
       "      <td>us/ca/modesto/3121yosemiteblvd/1235262340</td>\n",
       "      <td>37.63860</td>\n",
       "      <td>-120.93670</td>\n",
       "      <td>Fat Wong Chinese Food To Go</td>\n",
       "      <td>95354</td>\n",
       "      <td>CA</td>\n",
       "      <td>http://www.citysearch.com/profile/1154859/mode...</td>\n",
       "      <td>http://www.fatwongchinesefood.com/</td>\n",
       "      <td>{}</td>\n",
       "      <td>California</td>\n",
       "      <td>{}</td>\n",
       "      <td>average</td>\n",
       "    </tr>\n",
       "    <tr>\n",
       "      <th>3</th>\n",
       "      <td>AWjXLnyyRxPSIh2RASUl</td>\n",
       "      <td>2019-02-10T10:28:04Z</td>\n",
       "      <td>2019-05-18T22:09:17Z</td>\n",
       "      <td>3905 Sw 40th Boulevard</td>\n",
       "      <td>Fast Food Restaurant,Fast Food</td>\n",
       "      <td>Accommodation &amp; Food Services</td>\n",
       "      <td>Gainesville</td>\n",
       "      <td>US</td>\n",
       "      <td>us/fl/gainesville/3905sw40thboulevard/-2061630068</td>\n",
       "      <td>29.61790</td>\n",
       "      <td>-82.38360</td>\n",
       "      <td>Burger King</td>\n",
       "      <td>32608</td>\n",
       "      <td>FL</td>\n",
       "      <td>https://foursquare.com/v/burger-king/4b4d0620f...</td>\n",
       "      <td>https://locations.bk.com/fl/gainesville/3905-s...</td>\n",
       "      <td>{}</td>\n",
       "      <td>Florida</td>\n",
       "      <td>{}</td>\n",
       "      <td>average</td>\n",
       "    </tr>\n",
       "    <tr>\n",
       "      <th>4</th>\n",
       "      <td>AVwdMBXWByjofQCxmbTu</td>\n",
       "      <td>2016-06-08T16:17:17Z</td>\n",
       "      <td>2019-05-18T21:25:22Z</td>\n",
       "      <td>8256 Orion Ave</td>\n",
       "      <td>Mexican Restaurant,Restaurant,Mexican Restaura...</td>\n",
       "      <td>Accommodation &amp; Food Services</td>\n",
       "      <td>Van Nuys</td>\n",
       "      <td>US</td>\n",
       "      <td>us/ca/vannuys/8256orionave/-864103396</td>\n",
       "      <td>34.22080</td>\n",
       "      <td>-118.47190</td>\n",
       "      <td>Taco Bell</td>\n",
       "      <td>91406</td>\n",
       "      <td>CA</td>\n",
       "      <td>http://www.citysearch.com/profile/633545994/va...</td>\n",
       "      <td>https://locations.tacobell.com/ca/van-nuys/825...</td>\n",
       "      <td>{'open-hours': 'Regular HoursMon - Thu:9:00 am...</td>\n",
       "      <td>California</td>\n",
       "      <td>{'open-hours': 'regular hoursmon - thu:9:00 am...</td>\n",
       "      <td>below average</td>\n",
       "    </tr>\n",
       "  </tbody>\n",
       "</table>\n",
       "</div>"
      ],
      "text/plain": [
       "                     id             dateAdded           dateUpdated  \\\n",
       "0  AWrROxTbcuP9ADUBCmQx  2019-05-19T17:54:31Z  2019-05-19T17:54:31Z   \n",
       "1  AVweEg_oByjofQCxvA1V  2016-07-06T20:11:39Z  2019-05-19T07:41:13Z   \n",
       "2  AVwdQloekufWRAb54Asw  2016-05-05T12:40:33Z  2019-05-18T23:45:36Z   \n",
       "3  AWjXLnyyRxPSIh2RASUl  2019-02-10T10:28:04Z  2019-05-18T22:09:17Z   \n",
       "4  AVwdMBXWByjofQCxmbTu  2016-06-08T16:17:17Z  2019-05-18T21:25:22Z   \n",
       "\n",
       "                  address                                         categories  \\\n",
       "0      198 Central Avenue  Hamburgers and Hot Dogs,American Restaurants,F...   \n",
       "1       527 Bald Eagle Dr  Caterers,Seafood restaurants,Steak and chop re...   \n",
       "2      3121 Yosemite Blvd  Asian Restaurants,Caterers,Chinese Restaurants...   \n",
       "3  3905 Sw 40th Boulevard                     Fast Food Restaurant,Fast Food   \n",
       "4          8256 Orion Ave  Mexican Restaurant,Restaurant,Mexican Restaura...   \n",
       "\n",
       "               primaryCategories          city country  \\\n",
       "0  Accommodation & Food Services  White Plains      US   \n",
       "1  Accommodation & Food Services  Marco Island      US   \n",
       "2  Accommodation & Food Services       Modesto      US   \n",
       "3  Accommodation & Food Services   Gainesville      US   \n",
       "4  Accommodation & Food Services      Van Nuys      US   \n",
       "\n",
       "                                                keys  latitude  longitude  \\\n",
       "0      us/ny/whiteplains/198centralavenue/-904778134  41.03715  -73.77877   \n",
       "1        us/fl/marcoisland/527baldeagledr/-873322027  25.95090  -81.72280   \n",
       "2          us/ca/modesto/3121yosemiteblvd/1235262340  37.63860 -120.93670   \n",
       "3  us/fl/gainesville/3905sw40thboulevard/-2061630068  29.61790  -82.38360   \n",
       "4              us/ca/vannuys/8256orionave/-864103396  34.22080 -118.47190   \n",
       "\n",
       "                          name postalCode province  \\\n",
       "0     Nathan's Famous Hot Dogs      10606       NY   \n",
       "1          Kretch's Restaurant      34145       FL   \n",
       "2  Fat Wong Chinese Food To Go      95354       CA   \n",
       "3                  Burger King      32608       FL   \n",
       "4                    Taco Bell      91406       CA   \n",
       "\n",
       "                                          sourceURLs  \\\n",
       "0  https://www.yellowpages.com/white-plains-ny/mi...   \n",
       "1  https://www.yellowbook.com/profile/kretchs-res...   \n",
       "2  http://www.citysearch.com/profile/1154859/mode...   \n",
       "3  https://foursquare.com/v/burger-king/4b4d0620f...   \n",
       "4  http://www.citysearch.com/profile/633545994/va...   \n",
       "\n",
       "                                            websites  \\\n",
       "0                           http://nathansfamous.com   \n",
       "1  http://www.kretchs.com,http://kretchs.com/,htt...   \n",
       "2                 http://www.fatwongchinesefood.com/   \n",
       "3  https://locations.bk.com/fl/gainesville/3905-s...   \n",
       "4  https://locations.tacobell.com/ca/van-nuys/825...   \n",
       "\n",
       "                                            features       state  \\\n",
       "0  {'open-hours': 'Do you know the hours for this...    New York   \n",
       "1                                                 {}     Florida   \n",
       "2                                                 {}  California   \n",
       "3                                                 {}     Florida   \n",
       "4  {'open-hours': 'Regular HoursMon - Thu:9:00 am...  California   \n",
       "\n",
       "                                        feature_dict    price range  \n",
       "0  {'open-hours': 'do you know the hours for this...        average  \n",
       "1                                                 {}        average  \n",
       "2                                                 {}        average  \n",
       "3                                                 {}        average  \n",
       "4  {'open-hours': 'regular hoursmon - thu:9:00 am...  below average  "
      ]
     },
     "execution_count": 2,
     "metadata": {},
     "output_type": "execute_result"
    }
   ],
   "source": [
    "restaurant_data = pd.read_csv('restaurant_data_6_states.csv')\n",
    "restaurant_data.head()"
   ]
  },
  {
   "cell_type": "code",
   "execution_count": 3,
   "id": "3e4d487a",
   "metadata": {},
   "outputs": [
    {
     "data": {
      "text/plain": [
       "(2681, 20)"
      ]
     },
     "execution_count": 3,
     "metadata": {},
     "output_type": "execute_result"
    }
   ],
   "source": [
    "restaurant_data.shape"
   ]
  },
  {
   "cell_type": "code",
   "execution_count": 4,
   "id": "c0859814",
   "metadata": {},
   "outputs": [
    {
     "data": {
      "text/plain": [
       "Florida         739\n",
       "California      727\n",
       "Texas           426\n",
       "Washington      422\n",
       "Pennsylvania    194\n",
       "New York        173\n",
       "Name: state, dtype: int64"
      ]
     },
     "execution_count": 4,
     "metadata": {},
     "output_type": "execute_result"
    }
   ],
   "source": [
    "restaurant_data['state'].value_counts()"
   ]
  },
  {
   "cell_type": "markdown",
   "id": "81bc7e3b",
   "metadata": {
    "id": "81bc7e3b"
   },
   "source": [
    "#### Approach:\n",
    "\n",
    "1. **Conversation and Information Gathering**: The chatbot will utilize language models to understand and generate natural responses. Through a conversational flow, it will ask relevant questions to gather information about the user's requirements.\n",
    "2. **Information Extraction**: Once the essential information is collected, rule-based functions come into play, extracting top 5 recommendations that best matches the user's needs.\n",
    "3. **Personalized Recommendation**: Leveraging this extracted information, the chatbot engages in further dialogue with the user, efficiently addressing their queries and aiding them in finding the best restaurant based on the users dietary habits."
   ]
  },
  {
   "cell_type": "markdown",
   "id": "5e7aada9",
   "metadata": {
    "id": "5e7aada9"
   },
   "source": [
    "## Part 2: System Design"
   ]
  },
  {
   "cell_type": "markdown",
   "id": "a43fb33e",
   "metadata": {
    "id": "a43fb33e"
   },
   "source": [
    "\n",
    "#### Dataset\n",
    "\n",
    "We have a dataset `restaurant_data.csv` which represents the features of the hotel. The chatbot that we build will leverage LLMs to parse this `features` column and provide recommendations"
   ]
  },
  {
   "cell_type": "markdown",
   "id": "73d39aba",
   "metadata": {
    "id": "73d39aba"
   },
   "source": [
    "As you could see in the output above, the chatbot should ask a series of questions to\n",
    "- Determine the user's requirments. For simplicity, we have used 5 features to encapsulate the user's needs. The 5 features are as follows:\n",
    "    - Cuisine preference\n",
    "    - State Preferences\n",
    "    - Parking\n",
    "    - Dining in    \n",
    "    - Budget\n",
    "\n",
    "- Confirm if the user's requirements have been correctly captured at the end.\n",
    "\n",
    "After that the chatbot lists down the top recommendations that are the most relevant, and engages in further conversation to help the user find the best one.\n"
   ]
  },
  {
   "cell_type": "markdown",
   "id": "281ca223",
   "metadata": {
    "id": "281ca223"
   },
   "source": [
    "#### Building the Chatbot\n",
    "\n",
    "Now let's go ahead and understand the system design for the chatbot."
   ]
  },
  {
   "cell_type": "markdown",
   "id": "51b581e9",
   "metadata": {
    "id": "51b581e9"
   },
   "source": [
    "`Stage 1`\n",
    "\n",
    "- Intent Clarity Layer\n",
    "- Intent Confirmation Layer\n",
    "\n",
    "`Stage 2`\n",
    "\n",
    "- Product Mapping Layer\n",
    "- Product Information Extraction Layer\n",
    "\n",
    "`Stage 3`\n",
    "\n",
    "- Product Recommendation Layer"
   ]
  },
  {
   "cell_type": "markdown",
   "id": "59bd717d",
   "metadata": {
    "id": "59bd717d"
   },
   "source": [
    "## Implementation"
   ]
  },
  {
   "cell_type": "markdown",
   "id": "mPMUbPd0R8nl",
   "metadata": {
    "id": "mPMUbPd0R8nl"
   },
   "source": [
    "## Stage 1"
   ]
  },
  {
   "cell_type": "code",
   "execution_count": 5,
   "id": "7c90af6c",
   "metadata": {
    "id": "7c90af6c"
   },
   "outputs": [
    {
     "name": "stdout",
     "output_type": "stream",
     "text": [
      "Enter the file path for OpenAI API key\n",
      "File does not exist. Please enter the open AI API keysk-proj-fA8tYn1GVaWDXQrva6vsT3BlbkFJBEqkbGEea1Pobi4QnFJt\n"
     ]
    }
   ],
   "source": [
    "# Read the OpenAI API key\n",
    "# mention the text file where the open ai api key is mentioned\n",
    "# file_path = \"OPENAI_API_Key.txt\"\n",
    "file_path = input(\"Enter the file path for OpenAI API key\")\n",
    "\n",
    "if os.path.exists(file_path):\n",
    "    openai.api_key = open(file_path, \"r\").read().strip()\n",
    "else:\n",
    "    api_key = input(\"File does not exist. Please enter the open AI API key\")\n",
    "    openai.api_key = api_key\n",
    "    \n",
    "# Read the OpenAI API key\n",
    "os.environ['OPENAI_API_KEY'] = openai.api_key"
   ]
  },
  {
   "cell_type": "markdown",
   "id": "f6597837",
   "metadata": {
    "id": "f6597837"
   },
   "source": [
    "### Implementing Intent Clarity and Intent Confirmation Layers\n",
    "\n",
    "Let's start with the first part of the implementation - building the `intent clarity` and `intent confirmation` layers. As mentioned earlier, this layer helps in identifying the user requirements and passing it on to the product matching layer. "
   ]
  },
  {
   "cell_type": "code",
   "execution_count": 6,
   "id": "52f41464",
   "metadata": {},
   "outputs": [
    {
     "data": {
      "text/plain": [
       "array(['Hamburgers and Hot Dogs', 'American Restaurants',\n",
       "       'Fast Food Restaurants', 'Restaurants', 'Caterers',\n",
       "       'Seafood restaurants', 'Steak and chop restaurants',\n",
       "       'Crabs and crab houses', 'Restaurant Delivery Service',\n",
       "       'American restaurants', 'Seafood', 'Karaoke',\n",
       "       'Take Out Restaurants', 'Family Style Restaurants', 'Restaurant',\n",
       "       'Steak Houses', 'Night Clubs', 'Bars', 'Asian Restaurants',\n",
       "       'Chinese Restaurants', 'Fast Food Restaurant', 'Fast Food',\n",
       "       'Mexican Restaurant', 'Mexican Restaurants', 'Mexican',\n",
       "       'Breakfast', 'Vegetarian', 'Cafes', 'Hamburgers', 'Chicken',\n",
       "       'Italian Restaurant', 'Italian', 'Hot dog restaurants',\n",
       "       'Hamburger restaurants', 'Italian Restaurants', 'Pizza',\n",
       "       'Mediterranean Restaurants', 'Sandwich Shops',\n",
       "       'Traditional American', ' Mexican Restaurant', ' and Taco Place',\n",
       "       'Taco Place', 'wich Place', 'Catering', 'Sandwich Place',\n",
       "       'Delis And Delicatessens', 'Melbourne Restaurants',\n",
       "       'International restaurants', 'Greek Restaurant', 'Delicatessens',\n",
       "       'Greek Restaurants', 'Turkish restaurants', 'Armenian restaurants',\n",
       "       'Middle eastern restaurants', 'Greek restaurants',\n",
       "       'Carry-out food', 'Wings Joint', 'Tex-mex restaurants',\n",
       "       'Southwestern restaurants', 'Mexican restaurants',\n",
       "       ' and Wings Joint', 'Groceries', 'Sandwiches', 'Food Delivery',\n",
       "       'Pizza Place', 'Natural food restaurants', 'Ice cream parlors',\n",
       "       'Ice Cream Shop', 'Juice bars', 'Ice Cream and Frozen Desserts',\n",
       "       'Snack Place', 'Vegetarian restaurants', 'Refreshment Stands',\n",
       "       'Food Court', 'Health food restaurants', 'Juices',\n",
       "       'Family style restaurants', 'American Restaurant', 'Burgers',\n",
       "       'Burger Joint', 'Fast food restaurants', 'Breakfast Restaurants',\n",
       "       'Restaurant delivery service', 'Chicken Wings',\n",
       "       'Home delivery beer and beverages', 'Food Delivery Service',\n",
       "       'Ice Cream Parlors', 'American',\n",
       "       'Fast Food Restaurant and Burger Joint', 'Frozen Yogurt Shops',\n",
       "       'Coffeehouses', 'Salads', 'Pizza Restaurants', 'Take Out',\n",
       "       'Pizza Delivery', 'Barbecued poultry', 'Barbecue',\n",
       "       'Concession Stands', 'Spare rib restaurants',\n",
       "       'Chicken restaurants', 'Family Restaurants',\n",
       "       'Pizza Place Village of Tampa', 'Asian Restaurant',\n",
       "       'Health Food Restaurants', 'Asian restaurants', 'autos',\n",
       "       'Chinese Restaurant', 'Thai Restaurants', 'recreation',\n",
       "       'Thai restaurants', 'Chinese restaurants',\n",
       "       'Hot Dog Stands and Restaurants',\n",
       "       'Restaurants-breakfast and diners', 'Italian restaurants',\n",
       "       'Mediterranean restaurants', 'Chinese',\n",
       "       'Banquet Halls & Reception Facilities', 'Banquet Facilities',\n",
       "       'Restaurant Menus', 'Food & Beverage Delivery Services',\n",
       "       'Bagel Shops', 'Coffee Shops', 'Bakeries',\n",
       "       'American Restaurant and Pizza Place', 'Banquet Rooms',\n",
       "       'Reception Centers', 'Banquet facilities', 'Dessert Shops',\n",
       "       'Deli Bodega', 'Restaurant mgmt.', 'Restaurant consultants',\n",
       "       'Family Style Dining', 'Breakfast Brunch and Lunch Restaurants',\n",
       "       'Diner', 'Diners', ' American Restaurant', ' and Breakfast Spot',\n",
       "       'Latin American Restaurant', 'Burger Joint East Anaheim',\n",
       "       'Banquet Halls and Reception Facilities',\n",
       "       'Party and Event Planners', 'Takeout',\n",
       "       'Breakfast & Brunch Restaurants',\n",
       "       'Fast Food Restaurant and Taco Place', 'Vegetarian Restaurants',\n",
       "       'Chicken Restaurants', 'Fried Chicken Joint', 'Spanish',\n",
       "       'Japanese Restaurants', 'Wholesale seeds and bulbs',\n",
       "       'Vietnamese Restaurants', 'Seeding and fertilizing contractors',\n",
       "       'Vietnamese restaurants', 'New american restaurants',\n",
       "       'Japanese restaurants', 'Fusion restaurants',\n",
       "       'Seed and bulb growers', 'Taverns', 'French Restaurants',\n",
       "       'Coffee and Tea', 'Bistro', '', 'Coffee and Espresso Restaurants',\n",
       "       'Beer and Ale', 'Seafood Restaurants', 'Beer & Ale',\n",
       "       'Sandwich Shop Restaurants', 'Burrito Place', 'Bakery', ' Bakery',\n",
       "       ' and Caf Arden - Arcade', 'Caf', ' and Caf', 'Café',\n",
       "       'Chain Restaurant', 'Burger Restaurants', 'Take out restaurants',\n",
       "       'Burger Joint and BBQ Joint', 'BBQ Joint', 'Naples Restaurants',\n",
       "       'Ice Cream and Frozen Yogurt', ' Taco Place', ' and Burrito Place',\n",
       "       'Bar and Grills', 'Bar and grill restaurants',\n",
       "       'Barbecue Restaurants',\n",
       "       'Fast Food Restaurant and Mexican Restaurant',\n",
       "       'Home Cooking Restaurants', 'Soul Food Restaurants',\n",
       "       'Latin American Restaurants', 'Peruvian Restaurants',\n",
       "       'Peruvian Restaurant and Comfort Food Restaurant Rainier Valley',\n",
       "       'Peruvian', 'Vegan Restaurants', 'Comfort Food Restaurant',\n",
       "       'Peruvian Restaurant', 'Liquor Stores', 'Peruvian restaurants',\n",
       "       'Peruvian Restaurant and Comfort Food Restaurant Hillman City',\n",
       "       'Liquor stores', 'Peruvian Restaurant and Comfort Food Restaurant',\n",
       "       'Grocery Stores', 'Buffet', 'Buffet Restaurants', 'Food',\n",
       "       'Cocktail lounges', 'Cocktail lounge restaurants',\n",
       "       'Sandwich Place and Food', 'African restaurants',\n",
       "       'Soul food restaurants', 'Irish restaurants',\n",
       "       'Sandwich Place and Food East Central', 'sandwich place',\n",
       "       'Pizza Place Northeast Hazel Dell', 'Wedding supplies',\n",
       "       ' services', ' chapels', ' facilities', ' etc.',\n",
       "       'Bartending Service', 'New American Restaurant',\n",
       "       'New American Restaurant East Central', 'Party & Event Planners',\n",
       "       'Wedding Supplies & Services', 'Wedding Supplies and Services',\n",
       "       'Retail health and diet food products',\n",
       "       'Health and diet food products-wholsale and manufacturers',\n",
       "       'Gourmet shops', 'Gourmet shop restaurants', 'Retail wines',\n",
       "       'Florists', 'Money transfer service', 'Cakes and cupcakes',\n",
       "       'Italian Grocery Stores', 'Caterer', 'Italian Food',\n",
       "       'Hamburgers & Hot Dogs', 'Bar & Grills',\n",
       "       'Burger Joint and Fast Food Restaurant Freedom Village',\n",
       "       'Burger Joint and Fast Food Restaurant', 'Breakfast & Brunch',\n",
       "       'Wedding Reception Locations and Services', 'Pizza Restaurant',\n",
       "       'Food Delivery Services', 'Sandwich Place Downtown Oceanside',\n",
       "       'Food Products Wholesale & Manufacturers',\n",
       "       ' and Fast Food Restaurant', 'Cocktail Lounges',\n",
       "       'Other Great Outdoors',\n",
       "       'Chinese Restaurant and Fast Food Restaurant',\n",
       "       'Soda Fountain Shops', 'Ocala Restaurants', 'Ice Cream Store',\n",
       "       'Dessert Shop', 'Ice cream and frozen desserts-retail',\n",
       "       'Middle Eastern Restaurant', 'Mediterranean Restaurant',\n",
       "       'Caribbean Restaurants', 'Cuban Restaurants',\n",
       "       'Pizza Place and Italian Restaurant', 'Indian restaurants', 'Ovo',\n",
       "       'Non-veg', 'Take-out', 'Lacto', 'Fast food',\n",
       "       'Pizza Place Bixby Knolls', 'Opticians', 'Bars Pubs', 'Insurance',\n",
       "       'Gluten-free', 'Organic', 'Vegan-friendly', 'International',\n",
       "       'Korean Restaurants', 'Sushi Bars', 'Fish and Seafood Markets',\n",
       "       'Hot Dogs', 'New American Restaurants', 'Food and Beverage',\n",
       "       'Sandwich Place South Auburn',\n",
       "       'Billiard Equipment-Wholesale & Manufacturers',\n",
       "       'Breweries and brew pubs', 'Bars Clubs', 'Pubs', 'Toys',\n",
       "       'Dinner theatre restaurants', 'Billiard equipment and supplies',\n",
       "       'Bar & Grill Restaurants', 'Billiards Bars', 'Brewers',\n",
       "       'Bars and Grills', 'Bar', 'Billiard parlors', 'Toys-retail',\n",
       "       'Pool Hall', 'Pool Halls', 'Billiard Table Manufacturers',\n",
       "       'BBQ Joint and Asian Restaurant',\n",
       "       'BBQ Joint and Southern / Soul Food Restaurant',\n",
       "       'Southern / Soul Food Restaurant', 'Mediterranean',\n",
       "       'Middle Eastern Restaurants', 'Delivery',\n",
       "       'Menu printers and service', 'Sports Bars', 'Franchising',\n",
       "       'Ice Cream and Desserts', 'Deli & Sandwich', 'Food Stores',\n",
       "       'Dessert Restaurants', 'Party Planning', 'Mongolian Restaurants',\n",
       "       'American Restaurant and Coffee Shop', 'Coffee Shop',\n",
       "       'Fine Dining Restaurants', 'Wine and Distilled Beverages',\n",
       "       'Draperies Curtains and Window Treatments',\n",
       "       'Alterations and Tailoring', 'Clothing Alterations',\n",
       "       'Tailoring Supplies and Trims', 'Garment Services',\n",
       "       'Fur Storage and Services', 'Fur Repair',\n",
       "       'Dry Cleaners and Laundries', 'Drapery and Curtain Alterations',\n",
       "       'Fur Remodeling and Repairing',\n",
       "       'Alteration and Tailoring Supplies', 'Food Products',\n",
       "       'Sandwich shops',\n",
       "       'Burger Joint and Fast Food Restaurant Otay Ranch',\n",
       "       'Fried Chicken Joint Lawncrest',\n",
       "       'Food processing and manufacturing', 'Pinellas Park Restaurants',\n",
       "       'Breakfast Brunch & Lunch Restaurants',\n",
       "       'Burger Joint Southern San Diego', 'Asian/Pacific',\n",
       "       'Chinese Restaurant and Fast Food Restaurant Mitty',\n",
       "       'Mobile Phone Shop Mitty', 'Food & Entertainment',\n",
       "       'Catering Companies', 'Lounges', ' Burrito Place', 'Tex-Mex',\n",
       "       'Pub', 'Grill Restaurants', 'Brunch', 'Donut Shop', 'Doughnuts',\n",
       "       'Coffee and tea-retail',\n",
       "       'Coffee house and espresso bar restaurants', 'Salad',\n",
       "       'Pasta Restaurants', 'Coffee Makers', 'Coffee brewing equipment',\n",
       "       'Mexican Restaurant and Fast Food Restaurant Hunting Park',\n",
       "       'Fried Chicken Joint and Fast Food Restaurant Juniata Park - Feltonville',\n",
       "       'Fried Chicken Joint and Fast Food Restaurant',\n",
       "       'Orlando Restaurants', 'American Express', 'Visa', 'Carry Out',\n",
       "       'Discover', 'Global', 'Food Dining', 'Cheap Eats', 'Lunch Spot',\n",
       "       'Family-friendly Dining', 'Mastercard', ' and Burger Joint',\n",
       "       'Salad Place', 'Arcade', 'periodontics', 'food and drink',\n",
       "       'eating', 'Food and Dining',\n",
       "       'Fast Food Restaurant Southwestern Sacramento', 'Sushi Restaurant',\n",
       "       'Deordorant', 'Glue', 'Air Fresheners', 'Soap', 'Brew Pubs',\n",
       "       'Burger Joint and American Restaurant', 'Wholesale salads',\n",
       "       'Ice cream and frozen desserts-wholesale and manufacturers',\n",
       "       'Family entertainment', 'Sandwich', 'Juice Bars',\n",
       "       'Beverages Retail', 'Juice Smoothie Shops', 'Juices & Smoothies',\n",
       "       'Traditional American Restaurants', 'Juice Bar',\n",
       "       'Fast Food Restaurant Downtown Oakland', 'Asian',\n",
       "       'Chinese Restaurant Promenade at Natomas', 'Cafe',\n",
       "       'Continental Restaurants',\n",
       "       'Fast Food Restaurant and American Restaurant San Isidro',\n",
       "       'Fast Food Restaurant and American Restaurant', 'Chicken Take Out',\n",
       "       ' and Sandwich Place', 'Pizza Place Downtown Bakersfield',\n",
       "       'Bars & Pubs', 'Bars & Clubs', 'Gas and electric grills',\n",
       "       'Ice Cream & Frozen Yogurt Shops', 'Chinese Restaurant Nautilus',\n",
       "       'Sandwich Place and American Restaurant',\n",
       "       'Sandwich Place and American Restaurant West Meadows', 'Rock Club',\n",
       "       'Bistro restaurants', 'Bar and Rock Club', ' Deli / Bodega',\n",
       "       'Deli / Bodega', 'Sandwiches/Subs', 'Health Care Providers',\n",
       "       'Spanish Restaurants', 'Movie theaters', 'Pretzels',\n",
       "       'fast food restaurant', 'Family Friendly Restaurants',\n",
       "       'Wholesale Grocers', 'Health and Wellness Products',\n",
       "       'Health and Diet Food Products', 'Beverages', 'Mexican Foods',\n",
       "       'Printing', 'Copying & Duplicating Services',\n",
       "       'Commercial Printing', 'Copy Centers', 'Engravers',\n",
       "       'Printing Services', 'Fast Food Restaurant Central San Jose',\n",
       "       'Breakfast Spot', 'Pancakes & Waffles Restaurants', 'Donut Shops',\n",
       "       'Fried Chicken Joint Southwestern Sacramento', 'Australian',\n",
       "       'E-Commerce', 'Hot Dog Restaurants', 'Doughnut Shops',\n",
       "       ' Fried Chicken Joint', ' and Food Tioga - Nicetown', ' and Food',\n",
       "       'Fast Food Restaurant and American Restaurant Lafayette Park',\n",
       "       'Pasta', 'Asian food products', 'Grocers-Ethnic Foods',\n",
       "       'Food Products-Wholesale', 'Food products',\n",
       "       'Chinese Grocery Stores',\n",
       "       'Fast Food Restaurant Old Seminole Heights',\n",
       "       ' Fast Food Restaurant', ' and American Restaurant', 'Greek',\n",
       "       ' and Sandwich Place Swann Estates',\n",
       "       'Fried Chicken Joint and American Restaurant', 'Irish Restaurants',\n",
       "       'Nightclubs', 'Seafood Restaurant', 'Polynesian Restaurants',\n",
       "       'Bistros', 'Neighborhood Bars', 'Bagels',\n",
       "       ' and Taco Place Boca Del Mar', ' and Caf Mission Bay',\n",
       "       ' Breakfast Spot', ' and Diner', 'Fort Pierce Restaurants',\n",
       "       'Spanish restaurants', 'West indian restaurants',\n",
       "       'Creole and Cajun Restaurants', 'Fish & Seafood Markets',\n",
       "       'Frozen Yogurt', 'Burrito Place and Mexican Restaurant',\n",
       "       'Burrito Place and Mexican Restaurant Montgomery Village',\n",
       "       'Cocktail Bar', 'Japanese Restaurant', 'Japanese',\n",
       "       'Dialysis Clinics', 'Health Medical Services', 'Health Clinics',\n",
       "       'Surgeons', 'Dialysis', 'Soul',\n",
       "       'Fried Chicken Joint Northwest San Pedro',\n",
       "       'Fast Food Restaurant and Burger Joint Central Colma',\n",
       "       'Gainesville Restaurants', 'Soups', 'Sarasota Restaurants',\n",
       "       ' Sandwich Place', ' and Italian Restaurant',\n",
       "       'Gluten-free Restaurant', 'Beer/Wine', 'Glutenfree Restaurant',\n",
       "       'Fast Food Restaurant Village of Tampa', ' and Restaurant',\n",
       "       'Southwestern Restaurants', 'Yogurt', 'Lunch Restaurants',\n",
       "       'Sandwich Place and Fast Food Restaurant',\n",
       "       'Sandwich Place and Fast Food Restaurant East End',\n",
       "       'Smoothies Retail',\n",
       "       'Ice cream cone manufacturers and distributors',\n",
       "       'Night clubs and live music', 'breakfast spot',\n",
       "       'Mexican Restaurant and Fast Food Restaurant', 'Salad bar',\n",
       "       'Beer and Ale Distributors', 'Gluten-Free Foods', 'Tea Rooms',\n",
       "       'Coffee Brewing Devices', 'Juice bar', 'Business development',\n",
       "       'Cajun Creole Restaurant', 'Sandwiches / Fast Food / American',\n",
       "       'Canonsburg Restaurants', 'Meat',\n",
       "       'Mexican and Latin American Grocery Stores', 'Vietnamese',\n",
       "       'Cafeterias', 'Wine', ' and Taco Place Coral Way',\n",
       "       'real estate & construction',\n",
       "       'Fast Food Restaurant and Mexican Restaurant Village of Tampa',\n",
       "       'Sandwich Place Lake Forest', 'Ice Cream & Frozen Desserts',\n",
       "       'Food and Ice Cream Shop', 'Sandwich Place Hillyard',\n",
       "       'Sandwich Place West Seattle', 'Pizza Place South Auburn',\n",
       "       'Pizza Place Nevada - Lidgerwood', 'Cantonese Restaurants',\n",
       "       'German Restaurants', 'German Restaurant', 'Kissimmee Restaurants',\n",
       "       'Loans', 'Real estate', 'Diner and Breakfast Spot',\n",
       "       'Venice Restaurants', 'retail', 'Late Night Dining Restaurants',\n",
       "       'Night Club', 'Pancake and Waffle Restaurants',\n",
       "       'Pizza Place Arden - Arcade', 'Shopping centers and malls',\n",
       "       'American Restaurant and Breakfast Spot',\n",
       "       'Fast Food Restaurant Pecan Park', 'Thai Restaurant', 'Soup Place',\n",
       "       'Pizza Place Far West Side', 'american restaurants',\n",
       "       'Tire dealers', 'Diesel fuel', 'Self service laundries',\n",
       "       'Truck stops', 'Automated teller machines (atm)',\n",
       "       'Truck repairing and service', 'Sightseeing tours',\n",
       "       'Tours-operators and promoters',\n",
       "       'Southern / Soul Food Restaurant and American Restaurant',\n",
       "       'Tourist attractions',\n",
       "       'Fast Food Restaurant and Mexican Restaurant Northside - Northline',\n",
       "       'Vegetarian / Vegan Restaurant', 'Vegetarian Vegan Restaurant',\n",
       "       'Coffee Shop and Caf', 'Nightclub', ' Bar', ' and Cocktail Bar',\n",
       "       'Bar and Lounge', 'Casino', 'Steakhouse',\n",
       "       'Fast Food Restaurant and Mexican Restaurant Evergreen',\n",
       "       'Sandwich Place Northwest Side', 'Wings',\n",
       "       'Beer and beverages-wholesale and distributors',\n",
       "       'Ice Cream Shop and Fast Food Restaurant', 'coffee shop',\n",
       "       'Wholesale Bakers', 'Wholesale Bakeries', 'Wholesale bakeries',\n",
       "       'Mexican Restaurant and Taco Place', 'Ice Cream Shop Bryant',\n",
       "       'Chicken Takeout', 'Accounting and Bookkeeping',\n",
       "       'Steak Restaurants', 'Fast Food Restaurant South Semoran',\n",
       "       'Wings Joint and Fried Chicken Joint',\n",
       "       'Salad Place and Sandwich Place',\n",
       "       'Fast Food Restaurant South Naples', 'Pizza Place Moran Prairie',\n",
       "       'Sandwich Place Central Southwest', 'Brooksville Restaurants',\n",
       "       'Fast Food Restaurant Meadowbrook - Allendale',\n",
       "       'Ethnic Food Markets', 'British Restaurants', 'Retail Bakers',\n",
       "       'English Restaurant', 'Caterers Menus', 'General Entertainment',\n",
       "       'Arcade and Pizza Place', ' and Caf Hancock',\n",
       "       \"Contractors' equipment and supplies rental\", 'Rental service',\n",
       "       'Leasing service', 'Construction storage', 'Event Planners',\n",
       "       'catering', 'Mount Pleasant Restaurants',\n",
       "       'Hot Dog Stands & Restaurants', 'Service stations',\n",
       "       'Convenience stores', 'European', 'Coffee & Espresso Restaurants',\n",
       "       'Carry Out Food', 'Food and Beverage Services', ' Burger Joint',\n",
       "       ' Asian Restaurant', ' and Chinese Restaurant Crossroads Area',\n",
       "       'Fast Food Restaurant and American Restaurant Padre Island',\n",
       "       'Fusion', 'Cajun-creole restaurants', 'Southern style restaurants',\n",
       "       'Cajun and Creole Restaurants',\n",
       "       'Fast Food Restaurant Downtown Brooklyn',\n",
       "       'Fast Food Restaurant Greater Hobby Area',\n",
       "       'Coffee Shop and Donut Shop', 'Coffee & Tea',\n",
       "       'Mexican Restaurant and Fast Food Restaurant Corona Hills',\n",
       "       'weight loss programs', ' and Sandwich Place West Arlington',\n",
       "       'Halal Restaurant', 'Falafel Restaurant',\n",
       "       'Middle Eastern & African', 'Healthy',\n",
       "       'Fast Food Restaurant and Food Fresno High-Roeding',\n",
       "       'Food Service', ' and Burrito Place Fishhawk',\n",
       "       'Pizza Place Kings Crossing', 'Fast Food Restaurant West Side',\n",
       "       'Burger Joint and Fast Food Restaurant North Redondo Beach',\n",
       "       'Holding companies',\n",
       "       'Fast Food Restaurant and Burger Joint Hillside',\n",
       "       'Supermarkets and Super Stores', 'Hot Dog Joint',\n",
       "       'wholesale locks & locksmiths',\n",
       "       ' and Breakfast Spot Highland Lakes Center',\n",
       "       'Fast Food Restaurant and Mexican Restaurant Spring Creek',\n",
       "       'Fried Chicken Joint Spring Creek',\n",
       "       'Sandwich Place Atascocita Town Center',\n",
       "       'Fast Food Restaurant Atascocita South',\n",
       "       'Thai Restaurant South Harrisburg', 'Sandwich Place Baybrook Mall',\n",
       "       'Fish and Seafood-Wholesale', 'Palmetto Restaurants',\n",
       "       'Pizza / Wings / American', 'Flpizza Place', 'General Contractors',\n",
       "       'Indian Restaurants', 'Contemporary American',\n",
       "       'Fast Food Restaurant Northside - Northline',\n",
       "       'Fast Food Restaurant South Harrisburg',\n",
       "       'Donut Shop and Coffee Shop', 'Desserts', 'Coffee & Tea Shops',\n",
       "       'Coffee Tea Shops', 'Sandwich Place Old Sacramento',\n",
       "       'Pizza Place and Sandwich Place Riverside', 'Filipino',\n",
       "       'Fast Food Restaurant and Asian Restaurant', 'Indian Restaurant',\n",
       "       'Indian', 'Health Food Store', 'Tex-Mex Restaurant',\n",
       "       'TexMex Restaurant', 'Cocoa Restaurants', 'Crestview Acres',\n",
       "       'Sandwich Place Cocoa-Rockledge',\n",
       "       'Ice Cream Shop and Burger Joint',\n",
       "       'Fast Food Restaurant and French Restaurant', 'French Restaurant',\n",
       "       ' Dessert Shop', ' and French Restaurant',\n",
       "       'Pizza Place Moffett-Whisman', 'Marketing programs and services',\n",
       "       'Importers', 'Fast Food Restaurant and Burger Joint Georgetown',\n",
       "       ' Caf', ' and Bakery', 'Grand Island Restaurants',\n",
       "       'Burgers / American / Breakfast', 'Lake Placid Restaurants',\n",
       "       ' and Taco Place First Hill', 'Broomall Restaurants',\n",
       "       'Middle Eastern', 'Lebanese', 'Western',\n",
       "       'Fast Food Restaurant and Mexican Restaurant East Naples',\n",
       "       'Sandwich Place Greater Fondren Southwest',\n",
       "       'Fried Chicken Joint Hancock', 'Pizza Place Old West Side',\n",
       "       'Internet and online advertising', 'Sandwich Place and Bakery',\n",
       "       'Pizza Place South LA', 'Fast Food Restaurant West Bronx',\n",
       "       'Fast Food Restaurant and Burger Joint Fieldston',\n",
       "       'Huntington Beach Restaurants', 'Barbecue Grills Supplies',\n",
       "       'fried chicken joint', 'Colombian', 'Yogurt Manufacturers',\n",
       "       'Frozen Yogurt Shop', 'Breakfast Spot and American Restaurant',\n",
       "       'Cafeteria restaurants', 'shop',\n",
       "       'Fast Food Restaurant and Burger Joint West Bronx',\n",
       "       'Fast Food Restaurant Restlawn', 'Sports Bar',\n",
       "       'Burger Joint East Campbell', 'Fast Food Restaurant Glassell Park',\n",
       "       'Fast Food Restaurant Williamsburg', 'Sandwich Place Hough',\n",
       "       'Wings Joint Cypress Station', 'Car washing and polishing',\n",
       "       ' Soup Place', ' and Salad Place',\n",
       "       'Fast Food Restaurant East Chula Vista',\n",
       "       'Sandwich Place Harbor City', 'BBQ Joint and Fast Food Restaurant',\n",
       "       'Fast Food Restaurant and Burger Joint Spring Branch West',\n",
       "       'Internet and online services', 'Ice', ' Sports Bar',\n",
       "       ' and Lounge', 'Lounge', 'Air cargo and package express service',\n",
       "       ' and Sandwich Place Easton Commons', 'Latin', 'Caribbean',\n",
       "       'Fast Food Restaurant and Food',\n",
       "       'Pizza Place and American Restaurant',\n",
       "       'Burger Joint and Fast Food Restaurant South San Jose',\n",
       "       'Crystal River Restaurants', 'Polynesian restaurants',\n",
       "       'Soda fountain shops', 'Fast Food Restaurant and Ice Cream Shop',\n",
       "       'American Restaurant and Fast Food Restaurant',\n",
       "       'Moroccan restaurants', 'Sandwich Place Shawnee',\n",
       "       'Sandwich Place Blossom Valley', 'Wine Stores',\n",
       "       'Southern Soul Food Restaurant',\n",
       "       'Fast Food Restaurant and Fried Chicken Joint',\n",
       "       ' and Mexican Restaurant', 'Sandwich Place Southeast Arlington',\n",
       "       'Commercial photographers', 'Portrait photographers',\n",
       "       'catering companies', 'Fast Food Restaurant Serramonte',\n",
       "       'Gourmet Shops', 'Box Lunches', 'Kosher Restaurants',\n",
       "       'Fish Chips Shop', 'Fish & Chips Shop',\n",
       "       'Cajun / Creole Restaurant', 'Fish and seafood retail', 'Lobsters',\n",
       "       'Seafood Markets', 'Littlefield Restaurants', 'Coffee Retail',\n",
       "       'Donuts', 'Donut Shop University Square', 'Kitchen Cabinets',\n",
       "       'Sandwich Place Coral Gables Section',\n",
       "       'Candy and confectionery-retail', 'Southern & Soul Restaurants',\n",
       "       'Cajun & Creole Restaurants', 'Fried Chicken Joint Northwest Side',\n",
       "       'Beverage', 'Foods', 'Asian Restaurant Nevada - Lidgerwood',\n",
       "       ' Restaurant', ' and Fried Chicken Joint',\n",
       "       'Sandwich Place Issaquah Highlands', 'Office and loft buildings',\n",
       "       'Real estate rental service', 'Caf and Food', 'Health Food Stores',\n",
       "       'burger joint', 'Mexican Food Products',\n",
       "       'Burger Joint and Fast Food Restaurant South Side',\n",
       "       'Pizza Place East Chula Vista', ' Juice Bar',\n",
       "       'Fried Chicken Joint and Office', 'Delivery service',\n",
       "       'Fast Food Restaurant and Mexican Restaurant Redbird',\n",
       "       'Hawaiian Restaurants', ' and American Restaurant Canoga Park',\n",
       "       ' Diner', 'Clermont Restaurants', 'Pies', 'Professional Services',\n",
       "       'Sandwich Place East End', 'Belle Glade Restaurants',\n",
       "       'Deli / Bodega and Sandwich Place',\n",
       "       ' and Taco Place Northeast Boca Raton', 'Bowling',\n",
       "       'Caf and Coffee Shop', 'Amusement parks and places',\n",
       "       ' and Taco Place Financial District', 'Auto renting',\n",
       "       'Auto leasing', 'Travel agencies and bureaus',\n",
       "       'Fast Food Restaurant Spanish Springs', ' Hot Dog Joint',\n",
       "       ' and Ice Cream Shop', 'Hot Dog Joint West Anaheim',\n",
       "       'Latin American Restaurant and Fast Food Restaurant',\n",
       "       'Ferndale Restaurants', 'Tampa Restaurants',\n",
       "       'Auto dealers-new cars', 'Auto dealers-used cars and vans',\n",
       "       'Convenience Stores', 'Outdoor rooms and kitchens',\n",
       "       'Mexican / Fast Food', 'Rosenberg Restaurants', 'Caf Diplomat',\n",
       "       'Hot Dog Joint and Fast Food Restaurant', 'San Jose Restaurants',\n",
       "       'Sandwich Place Meadowdale', 'business services',\n",
       "       'Sandwich Place Bloomingdale Ridge', 'Hawaiian', 'Family Style',\n",
       "       'BBQ Joints', 'Fast Food Restaurant Prestonwood Town Center',\n",
       "       'Taco Place and Fast Food Restaurant Five Towns', 'Nutrition',\n",
       "       'Delicatessen', 'Dessert', 'Green Products', 'Austin Restaurants',\n",
       "       'St. Johns', 'New American', 'Cedar Hill Restaurants',\n",
       "       'Traditional', 'American / Hamburgers / Fast Food',\n",
       "       'Golf Practice Ranges', 'Golf courses', 'Private Golf Courses',\n",
       "       'Continental restaurants', 'Private Clubs', 'Clubs',\n",
       "       'Outdoor Activities', 'Sandwich Place West Valley',\n",
       "       'Fast Food Restaurant Southwest Dallas', 'Bothell Restaurants'],\n",
       "      dtype=object)"
      ]
     },
     "execution_count": 6,
     "metadata": {},
     "output_type": "execute_result"
    }
   ],
   "source": [
    "exploded_values = restaurant_data['categories'].apply(lambda x: x.split(',')).explode()\n",
    "# Get unique values\n",
    "unique_values = exploded_values.unique()\n",
    "unique_values"
   ]
  },
  {
   "cell_type": "code",
   "execution_count": 7,
   "id": "b6641ba7",
   "metadata": {},
   "outputs": [
    {
     "data": {
      "text/html": [
       "<div>\n",
       "<style scoped>\n",
       "    .dataframe tbody tr th:only-of-type {\n",
       "        vertical-align: middle;\n",
       "    }\n",
       "\n",
       "    .dataframe tbody tr th {\n",
       "        vertical-align: top;\n",
       "    }\n",
       "\n",
       "    .dataframe thead th {\n",
       "        text-align: right;\n",
       "    }\n",
       "</style>\n",
       "<table border=\"1\" class=\"dataframe\">\n",
       "  <thead>\n",
       "    <tr style=\"text-align: right;\">\n",
       "      <th></th>\n",
       "      <th>id</th>\n",
       "      <th>dateAdded</th>\n",
       "      <th>dateUpdated</th>\n",
       "      <th>address</th>\n",
       "      <th>categories</th>\n",
       "      <th>primaryCategories</th>\n",
       "      <th>city</th>\n",
       "      <th>country</th>\n",
       "      <th>keys</th>\n",
       "      <th>latitude</th>\n",
       "      <th>longitude</th>\n",
       "      <th>name</th>\n",
       "      <th>postalCode</th>\n",
       "      <th>province</th>\n",
       "      <th>sourceURLs</th>\n",
       "      <th>websites</th>\n",
       "      <th>features</th>\n",
       "      <th>state</th>\n",
       "      <th>feature_dict</th>\n",
       "      <th>price range</th>\n",
       "    </tr>\n",
       "  </thead>\n",
       "  <tbody>\n",
       "    <tr>\n",
       "      <th>0</th>\n",
       "      <td>AWrROxTbcuP9ADUBCmQx</td>\n",
       "      <td>2019-05-19T17:54:31Z</td>\n",
       "      <td>2019-05-19T17:54:31Z</td>\n",
       "      <td>198 Central Avenue</td>\n",
       "      <td>Hamburgers and Hot Dogs,American Restaurants,F...</td>\n",
       "      <td>Accommodation &amp; Food Services</td>\n",
       "      <td>White Plains</td>\n",
       "      <td>US</td>\n",
       "      <td>us/ny/whiteplains/198centralavenue/-904778134</td>\n",
       "      <td>41.03715</td>\n",
       "      <td>-73.77877</td>\n",
       "      <td>Nathan's Famous Hot Dogs</td>\n",
       "      <td>10606</td>\n",
       "      <td>NY</td>\n",
       "      <td>https://www.yellowpages.com/white-plains-ny/mi...</td>\n",
       "      <td>http://nathansfamous.com</td>\n",
       "      <td>{'open-hours': 'Do you know the hours for this...</td>\n",
       "      <td>New York</td>\n",
       "      <td>{'open-hours': 'do you know the hours for this...</td>\n",
       "      <td>average</td>\n",
       "    </tr>\n",
       "    <tr>\n",
       "      <th>1</th>\n",
       "      <td>AVweEg_oByjofQCxvA1V</td>\n",
       "      <td>2016-07-06T20:11:39Z</td>\n",
       "      <td>2019-05-19T07:41:13Z</td>\n",
       "      <td>527 Bald Eagle Dr</td>\n",
       "      <td>Caterers,Seafood restaurants,Steak and chop re...</td>\n",
       "      <td>Accommodation &amp; Food Services</td>\n",
       "      <td>Marco Island</td>\n",
       "      <td>US</td>\n",
       "      <td>us/fl/marcoisland/527baldeagledr/-873322027</td>\n",
       "      <td>25.95090</td>\n",
       "      <td>-81.72280</td>\n",
       "      <td>Kretch's Restaurant</td>\n",
       "      <td>34145</td>\n",
       "      <td>FL</td>\n",
       "      <td>https://www.yellowbook.com/profile/kretchs-res...</td>\n",
       "      <td>http://www.kretchs.com,http://kretchs.com/,htt...</td>\n",
       "      <td>{}</td>\n",
       "      <td>Florida</td>\n",
       "      <td>{}</td>\n",
       "      <td>average</td>\n",
       "    </tr>\n",
       "    <tr>\n",
       "      <th>2</th>\n",
       "      <td>AVwdQloekufWRAb54Asw</td>\n",
       "      <td>2016-05-05T12:40:33Z</td>\n",
       "      <td>2019-05-18T23:45:36Z</td>\n",
       "      <td>3121 Yosemite Blvd</td>\n",
       "      <td>Asian Restaurants,Caterers,Chinese Restaurants...</td>\n",
       "      <td>Accommodation &amp; Food Services</td>\n",
       "      <td>Modesto</td>\n",
       "      <td>US</td>\n",
       "      <td>us/ca/modesto/3121yosemiteblvd/1235262340</td>\n",
       "      <td>37.63860</td>\n",
       "      <td>-120.93670</td>\n",
       "      <td>Fat Wong Chinese Food To Go</td>\n",
       "      <td>95354</td>\n",
       "      <td>CA</td>\n",
       "      <td>http://www.citysearch.com/profile/1154859/mode...</td>\n",
       "      <td>http://www.fatwongchinesefood.com/</td>\n",
       "      <td>{}</td>\n",
       "      <td>California</td>\n",
       "      <td>{}</td>\n",
       "      <td>average</td>\n",
       "    </tr>\n",
       "    <tr>\n",
       "      <th>3</th>\n",
       "      <td>AWjXLnyyRxPSIh2RASUl</td>\n",
       "      <td>2019-02-10T10:28:04Z</td>\n",
       "      <td>2019-05-18T22:09:17Z</td>\n",
       "      <td>3905 Sw 40th Boulevard</td>\n",
       "      <td>Fast Food Restaurant,Fast Food</td>\n",
       "      <td>Accommodation &amp; Food Services</td>\n",
       "      <td>Gainesville</td>\n",
       "      <td>US</td>\n",
       "      <td>us/fl/gainesville/3905sw40thboulevard/-2061630068</td>\n",
       "      <td>29.61790</td>\n",
       "      <td>-82.38360</td>\n",
       "      <td>Burger King</td>\n",
       "      <td>32608</td>\n",
       "      <td>FL</td>\n",
       "      <td>https://foursquare.com/v/burger-king/4b4d0620f...</td>\n",
       "      <td>https://locations.bk.com/fl/gainesville/3905-s...</td>\n",
       "      <td>{}</td>\n",
       "      <td>Florida</td>\n",
       "      <td>{}</td>\n",
       "      <td>average</td>\n",
       "    </tr>\n",
       "    <tr>\n",
       "      <th>4</th>\n",
       "      <td>AVwdMBXWByjofQCxmbTu</td>\n",
       "      <td>2016-06-08T16:17:17Z</td>\n",
       "      <td>2019-05-18T21:25:22Z</td>\n",
       "      <td>8256 Orion Ave</td>\n",
       "      <td>Mexican Restaurant,Restaurant,Mexican Restaura...</td>\n",
       "      <td>Accommodation &amp; Food Services</td>\n",
       "      <td>Van Nuys</td>\n",
       "      <td>US</td>\n",
       "      <td>us/ca/vannuys/8256orionave/-864103396</td>\n",
       "      <td>34.22080</td>\n",
       "      <td>-118.47190</td>\n",
       "      <td>Taco Bell</td>\n",
       "      <td>91406</td>\n",
       "      <td>CA</td>\n",
       "      <td>http://www.citysearch.com/profile/633545994/va...</td>\n",
       "      <td>https://locations.tacobell.com/ca/van-nuys/825...</td>\n",
       "      <td>{'open-hours': 'Regular HoursMon - Thu:9:00 am...</td>\n",
       "      <td>California</td>\n",
       "      <td>{'open-hours': 'regular hoursmon - thu:9:00 am...</td>\n",
       "      <td>below average</td>\n",
       "    </tr>\n",
       "  </tbody>\n",
       "</table>\n",
       "</div>"
      ],
      "text/plain": [
       "                     id             dateAdded           dateUpdated  \\\n",
       "0  AWrROxTbcuP9ADUBCmQx  2019-05-19T17:54:31Z  2019-05-19T17:54:31Z   \n",
       "1  AVweEg_oByjofQCxvA1V  2016-07-06T20:11:39Z  2019-05-19T07:41:13Z   \n",
       "2  AVwdQloekufWRAb54Asw  2016-05-05T12:40:33Z  2019-05-18T23:45:36Z   \n",
       "3  AWjXLnyyRxPSIh2RASUl  2019-02-10T10:28:04Z  2019-05-18T22:09:17Z   \n",
       "4  AVwdMBXWByjofQCxmbTu  2016-06-08T16:17:17Z  2019-05-18T21:25:22Z   \n",
       "\n",
       "                  address                                         categories  \\\n",
       "0      198 Central Avenue  Hamburgers and Hot Dogs,American Restaurants,F...   \n",
       "1       527 Bald Eagle Dr  Caterers,Seafood restaurants,Steak and chop re...   \n",
       "2      3121 Yosemite Blvd  Asian Restaurants,Caterers,Chinese Restaurants...   \n",
       "3  3905 Sw 40th Boulevard                     Fast Food Restaurant,Fast Food   \n",
       "4          8256 Orion Ave  Mexican Restaurant,Restaurant,Mexican Restaura...   \n",
       "\n",
       "               primaryCategories          city country  \\\n",
       "0  Accommodation & Food Services  White Plains      US   \n",
       "1  Accommodation & Food Services  Marco Island      US   \n",
       "2  Accommodation & Food Services       Modesto      US   \n",
       "3  Accommodation & Food Services   Gainesville      US   \n",
       "4  Accommodation & Food Services      Van Nuys      US   \n",
       "\n",
       "                                                keys  latitude  longitude  \\\n",
       "0      us/ny/whiteplains/198centralavenue/-904778134  41.03715  -73.77877   \n",
       "1        us/fl/marcoisland/527baldeagledr/-873322027  25.95090  -81.72280   \n",
       "2          us/ca/modesto/3121yosemiteblvd/1235262340  37.63860 -120.93670   \n",
       "3  us/fl/gainesville/3905sw40thboulevard/-2061630068  29.61790  -82.38360   \n",
       "4              us/ca/vannuys/8256orionave/-864103396  34.22080 -118.47190   \n",
       "\n",
       "                          name postalCode province  \\\n",
       "0     Nathan's Famous Hot Dogs      10606       NY   \n",
       "1          Kretch's Restaurant      34145       FL   \n",
       "2  Fat Wong Chinese Food To Go      95354       CA   \n",
       "3                  Burger King      32608       FL   \n",
       "4                    Taco Bell      91406       CA   \n",
       "\n",
       "                                          sourceURLs  \\\n",
       "0  https://www.yellowpages.com/white-plains-ny/mi...   \n",
       "1  https://www.yellowbook.com/profile/kretchs-res...   \n",
       "2  http://www.citysearch.com/profile/1154859/mode...   \n",
       "3  https://foursquare.com/v/burger-king/4b4d0620f...   \n",
       "4  http://www.citysearch.com/profile/633545994/va...   \n",
       "\n",
       "                                            websites  \\\n",
       "0                           http://nathansfamous.com   \n",
       "1  http://www.kretchs.com,http://kretchs.com/,htt...   \n",
       "2                 http://www.fatwongchinesefood.com/   \n",
       "3  https://locations.bk.com/fl/gainesville/3905-s...   \n",
       "4  https://locations.tacobell.com/ca/van-nuys/825...   \n",
       "\n",
       "                                            features       state  \\\n",
       "0  {'open-hours': 'Do you know the hours for this...    New York   \n",
       "1                                                 {}     Florida   \n",
       "2                                                 {}  California   \n",
       "3                                                 {}     Florida   \n",
       "4  {'open-hours': 'Regular HoursMon - Thu:9:00 am...  California   \n",
       "\n",
       "                                        feature_dict    price range  \n",
       "0  {'open-hours': 'do you know the hours for this...        average  \n",
       "1                                                 {}        average  \n",
       "2                                                 {}        average  \n",
       "3                                                 {}        average  \n",
       "4  {'open-hours': 'regular hoursmon - thu:9:00 am...  below average  "
      ]
     },
     "execution_count": 7,
     "metadata": {},
     "output_type": "execute_result"
    }
   ],
   "source": [
    "restaurant_data.head()"
   ]
  },
  {
   "cell_type": "code",
   "execution_count": 8,
   "id": "3dd60beb",
   "metadata": {},
   "outputs": [
    {
     "data": {
      "text/plain": [
       "array(['average', 'below average', 'above average'], dtype=object)"
      ]
     },
     "execution_count": 8,
     "metadata": {},
     "output_type": "execute_result"
    }
   ],
   "source": [
    "restaurant_data['price range'].unique()"
   ]
  },
  {
   "cell_type": "code",
   "execution_count": 9,
   "id": "efaa4a0e",
   "metadata": {},
   "outputs": [],
   "source": [
    "restaurant_data['feature_dict'] = restaurant_data['features'].apply(lambda x:ast.literal_eval(str(x).lower()))"
   ]
  },
  {
   "cell_type": "code",
   "execution_count": 10,
   "id": "034174a2",
   "metadata": {},
   "outputs": [
    {
     "data": {
      "text/plain": [
       "fast food restaurants, restaurants, sandwich shops, take out restaurants                                                                                                                                                                                                                                                            111\n",
       "fast food restaurants, hamburgers & hot dogs, restaurants, take out restaurants                                                                                                                                                                                                                                                      77\n",
       "fast food restaurants, hamburgers & hot dogs, restaurants                                                                                                                                                                                                                                                                            54\n",
       "pizza, fast food restaurants, restaurants, take out restaurants                                                                                                                                                                                                                                                                      54\n",
       "fast food restaurants, mexican restaurants, restaurants                                                                                                                                                                                                                                                                              43\n",
       "                                                                                                                                                                                                                                                                                                                                   ... \n",
       "seafood restaurants, american restaurants, breakfast, brunch & lunch restaurants, buffet restaurants, creole & cajun restaurants, fast food restaurants, fish & seafood markets, hamburgers & hot dogs, irish restaurants, mexican restaurants, restaurants, steak houses, sushi bars, thai restaurants, vegetarian restaurants       1\n",
       "pizza, caterers, family style restaurants, italian restaurants, restaurants, take out restaurants                                                                                                                                                                                                                                     1\n",
       "italian restaurants, caterers, pizza, restaurants, take out restaurants                                                                                                                                                                                                                                                               1\n",
       "chinese restaurants, asian restaurants, family style restaurants, fast food restaurants, restaurants, take out restaurants                                                                                                                                                                                                            1\n",
       "golf courses, banquet halls & reception facilities, fast food restaurants, golf practice ranges, private clubs, private golf courses                                                                                                                                                                                                  1\n",
       "Name: feature_dict, Length: 294, dtype: int64"
      ]
     },
     "execution_count": 10,
     "metadata": {},
     "output_type": "execute_result"
    }
   ],
   "source": [
    "# Define the key you want to find the value for\n",
    "key_to_find = 'categories'\n",
    "# Extract the value associated with the key\n",
    "restaurant_data['feature_dict'].apply(lambda x: x.get(key_to_find, None)).value_counts()\n"
   ]
  },
  {
   "cell_type": "code",
   "execution_count": 11,
   "id": "2f9d7e4b",
   "metadata": {},
   "outputs": [
    {
     "data": {
      "text/plain": [
       "dict_keys(['cuisine', 'delivery location', 'is free parking', 'is dine-in', 'price range'])"
      ]
     },
     "execution_count": 11,
     "metadata": {},
     "output_type": "execute_result"
    }
   ],
   "source": [
    "example_user_dict = {'cuisine':'values',\n",
    "                     'delivery location':'values',\n",
    "                     'is free parking':'values',\n",
    "                     'is dine-in':'values',\n",
    "                     'price range':'values'}\n",
    "\n",
    "example_user_dict.keys()"
   ]
  },
  {
   "cell_type": "code",
   "execution_count": 69,
   "id": "431f76f6",
   "metadata": {
    "id": "431f76f6"
   },
   "outputs": [],
   "source": [
    "def initialize_conversation():\n",
    "    '''\n",
    "    Returns a list [{\"role\": \"system\", \"content\": system_message}]\n",
    "    '''\n",
    "\n",
    "    delimiter = \"####\"\n",
    "\n",
    "    example_user_dict = {'cuisine':'values',\n",
    "                         'delivery location':'values',\n",
    "                         'is free parking':'values',\n",
    "                         'is dine-in':'values',\n",
    "                         'price range':'values'}\n",
    "\n",
    "    example_user_req = {'cuisine': \"_\",\n",
    "                        'delivery location': \"_\",\n",
    "                        'is free parking': \"_\",\n",
    "                        'is dine-in': \"_\",\n",
    "                        'price range': \"_\"}\n",
    "\n",
    "    system_message = f\"\"\"\n",
    "    You are an excellent food blogger or food critic expert and your goal is to recommend the best restaurant for a user in\n",
    "    'New York', 'Florida', 'California', 'Pennsylvania', 'Texas' or 'Washington'.\n",
    "    You need to ask relevant questions and understand the user food and dietary preferences by analysing the user's responses.\n",
    "    You final objective is to fill the values for the different keys ('cuisine','delivery location','is free parking','is dine-in','price range') in the python dictionary and be confident of the values.\n",
    "    These key value pairs define the user's food and dietary preferences.\n",
    "    The python dictionary looks like this\n",
    "    {{'cuisine':'values','delivery location':'values','is free parking':'values','is dine-in':'values','price range':'values'}}\n",
    "    The value for 'delivery location' should be either 'New York' or 'NY', 'Florida' or 'FL', 'California' or 'CA', 'Pennsylvania' or 'PA', 'Texas' or 'TX','Washington' or 'WA' extracted from the user's response.\n",
    "    The value for 'is free parking','is dine-in' should be either 'Yes' or 'No'.\n",
    "    The value for 'price range' should be either 'average', 'below average', 'above average'.\n",
    "    The value for 'cuisine' can be any kind of restaurants like 'mexican', 'chinese', 'indian', 'japanese', 'chinese', 'asian', 'fast food', 'pizza', 'hamburgers', 'hot dogs', 'sea food' etc\n",
    "\n",
    "    {delimiter}\n",
    "    Here are some instructions around the values for the different keys. If you do not follow this, you'll be heavily penalised:\n",
    "    Do not randomly assign values to any of the keys.\n",
    "    - The values need to be inferred from the user's response.\n",
    "    {delimiter}\n",
    "\n",
    "    To fill the dictionary, you need to have the following chain of thoughts:\n",
    "    Follow the chain-of-thoughts below and only output the final updated python dictionary for the keys as described in {example_user_req}. \\n\n",
    "    {delimiter}\n",
    "    Thought 1: Ask a question to understand the user's food and dietary preferences. \\n\n",
    "    If their food and cuisine preference is unclear. Ask followup questions to understand their needs.\n",
    "    You are trying to fill the values of all the keys {{'cuisine', 'delivery location', is free parking','is dine-in','price range'}} in the python dictionary by understanding the user requirements.\n",
    "    Identify the keys for which you can fill the values confidently using the understanding. \\n\n",
    "    Remember the instructions around the values for the different keys.\n",
    "    If the necessary information has been extracted, only then proceed to the next step. \\n\n",
    "    Otherwise, rephrase the question to capture their profile clearly. \\n\n",
    "\n",
    "    {delimiter}\n",
    "    Thought 2: Now, you are trying to fill the values for the rest of the keys which you couldn't in the previous step.\n",
    "    Remember the instructions around the values for the different keys.\n",
    "    Ask questions you might have for all the keys to strengthen your understanding of the user's profile.\n",
    "    If yes, move to the next Thought. If no, ask question on the keys whose values you are unsure of. \\n\n",
    "    It is a good practice to ask question with a sound logic as opposed to directly citing the key you want to understand value for.\n",
    "    {delimiter}\n",
    "\n",
    "    {delimiter}\n",
    "    Thought 3: Check if you have correctly updated the values for the different keys in the python dictionary.\n",
    "    If you are not confident about any of the values, ask clarifying questions.\n",
    "    {delimiter}\n",
    "\n",
    "    {delimiter}\n",
    "    Here is a sample conversation between the user and assistant:\n",
    "    User: Hi there! I'm looking for a good restaurant to have dinner tonight. Any recommendations?\n",
    "\n",
    "    Assistant: Of course! Which US state or province is your ideal location?\n",
    "\n",
    "    User: California or Pennsylvania\n",
    "\n",
    "    Assistant: Noted! Could you please tell what type of cuisine are you in the mood for?\n",
    "\n",
    "    User: I'm open to anything, but I'm leaning towards Italian or Mexican food.\n",
    "\n",
    "    Assistant: Thank you for providing that information. Would you require parking facilities?\n",
    "\n",
    "    User: Yes. I need free parking.\n",
    "    .\n",
    "    Assistant: I appreciate you sharing this information. Which do you prefer: takeout or dining in?\n",
    "\n",
    "    User: I prefer free dining in.\n",
    "\n",
    "    Assistant: Could you kindly let me know your budget? This will help me find options that fit within your price range.\n",
    "\n",
    "    User: Less than 25 dollar\n",
    "\n",
    "    Assistant: Great! Then For Italian cuisine, I recommend trying out \"Tonelli's Takeout\" in '435 Germantown Pike, Pennsylvania'. They have amazing Pizza and a cozy atmosphere. For Mexican food, \"Taco Bell\" in \"8256 Orion Ave, California\" is fantastic. They serve authentic Mexican cuisine.\n",
    "\n",
    "    User: Thank you so much for your help!\n",
    "\n",
    "    Assistant: {example_user_dict}\n",
    "               {delimiter}\n",
    "\n",
    "    Start with a short welcome message and encourage the user to share their requirements. Ask user to type 'Exit' to end the chat.\n",
    "    Keep in mind while asking for delivery location always ask to choose from one of the following states in US \n",
    "    'New York', 'Florida', 'California', 'Pennsylvania', 'Texas' or 'Washington'\n",
    "    \"\"\"\n",
    "    conversation = [{\"role\": \"system\", \"content\": system_message}]\n",
    "    # conversation = system_message\n",
    "    return conversation"
   ]
  },
  {
   "cell_type": "code",
   "execution_count": 13,
   "id": "c0489c4e",
   "metadata": {},
   "outputs": [
    {
     "data": {
      "text/html": [
       "<div>\n",
       "<style scoped>\n",
       "    .dataframe tbody tr th:only-of-type {\n",
       "        vertical-align: middle;\n",
       "    }\n",
       "\n",
       "    .dataframe tbody tr th {\n",
       "        vertical-align: top;\n",
       "    }\n",
       "\n",
       "    .dataframe thead th {\n",
       "        text-align: right;\n",
       "    }\n",
       "</style>\n",
       "<table border=\"1\" class=\"dataframe\">\n",
       "  <thead>\n",
       "    <tr style=\"text-align: right;\">\n",
       "      <th></th>\n",
       "      <th>id</th>\n",
       "      <th>dateAdded</th>\n",
       "      <th>dateUpdated</th>\n",
       "      <th>address</th>\n",
       "      <th>categories</th>\n",
       "      <th>primaryCategories</th>\n",
       "      <th>city</th>\n",
       "      <th>country</th>\n",
       "      <th>keys</th>\n",
       "      <th>latitude</th>\n",
       "      <th>longitude</th>\n",
       "      <th>name</th>\n",
       "      <th>postalCode</th>\n",
       "      <th>province</th>\n",
       "      <th>sourceURLs</th>\n",
       "      <th>websites</th>\n",
       "      <th>features</th>\n",
       "      <th>state</th>\n",
       "      <th>feature_dict</th>\n",
       "      <th>price range</th>\n",
       "    </tr>\n",
       "  </thead>\n",
       "  <tbody>\n",
       "    <tr>\n",
       "      <th>0</th>\n",
       "      <td>AWrROxTbcuP9ADUBCmQx</td>\n",
       "      <td>2019-05-19T17:54:31Z</td>\n",
       "      <td>2019-05-19T17:54:31Z</td>\n",
       "      <td>198 Central Avenue</td>\n",
       "      <td>Hamburgers and Hot Dogs,American Restaurants,F...</td>\n",
       "      <td>Accommodation &amp; Food Services</td>\n",
       "      <td>White Plains</td>\n",
       "      <td>US</td>\n",
       "      <td>us/ny/whiteplains/198centralavenue/-904778134</td>\n",
       "      <td>41.03715</td>\n",
       "      <td>-73.77877</td>\n",
       "      <td>Nathan's Famous Hot Dogs</td>\n",
       "      <td>10606</td>\n",
       "      <td>NY</td>\n",
       "      <td>https://www.yellowpages.com/white-plains-ny/mi...</td>\n",
       "      <td>http://nathansfamous.com</td>\n",
       "      <td>{'open-hours': 'Do you know the hours for this...</td>\n",
       "      <td>New York</td>\n",
       "      <td>{'open-hours': 'do you know the hours for this...</td>\n",
       "      <td>average</td>\n",
       "    </tr>\n",
       "    <tr>\n",
       "      <th>1</th>\n",
       "      <td>AVweEg_oByjofQCxvA1V</td>\n",
       "      <td>2016-07-06T20:11:39Z</td>\n",
       "      <td>2019-05-19T07:41:13Z</td>\n",
       "      <td>527 Bald Eagle Dr</td>\n",
       "      <td>Caterers,Seafood restaurants,Steak and chop re...</td>\n",
       "      <td>Accommodation &amp; Food Services</td>\n",
       "      <td>Marco Island</td>\n",
       "      <td>US</td>\n",
       "      <td>us/fl/marcoisland/527baldeagledr/-873322027</td>\n",
       "      <td>25.95090</td>\n",
       "      <td>-81.72280</td>\n",
       "      <td>Kretch's Restaurant</td>\n",
       "      <td>34145</td>\n",
       "      <td>FL</td>\n",
       "      <td>https://www.yellowbook.com/profile/kretchs-res...</td>\n",
       "      <td>http://www.kretchs.com,http://kretchs.com/,htt...</td>\n",
       "      <td>{}</td>\n",
       "      <td>Florida</td>\n",
       "      <td>{}</td>\n",
       "      <td>average</td>\n",
       "    </tr>\n",
       "    <tr>\n",
       "      <th>2</th>\n",
       "      <td>AVwdQloekufWRAb54Asw</td>\n",
       "      <td>2016-05-05T12:40:33Z</td>\n",
       "      <td>2019-05-18T23:45:36Z</td>\n",
       "      <td>3121 Yosemite Blvd</td>\n",
       "      <td>Asian Restaurants,Caterers,Chinese Restaurants...</td>\n",
       "      <td>Accommodation &amp; Food Services</td>\n",
       "      <td>Modesto</td>\n",
       "      <td>US</td>\n",
       "      <td>us/ca/modesto/3121yosemiteblvd/1235262340</td>\n",
       "      <td>37.63860</td>\n",
       "      <td>-120.93670</td>\n",
       "      <td>Fat Wong Chinese Food To Go</td>\n",
       "      <td>95354</td>\n",
       "      <td>CA</td>\n",
       "      <td>http://www.citysearch.com/profile/1154859/mode...</td>\n",
       "      <td>http://www.fatwongchinesefood.com/</td>\n",
       "      <td>{}</td>\n",
       "      <td>California</td>\n",
       "      <td>{}</td>\n",
       "      <td>average</td>\n",
       "    </tr>\n",
       "    <tr>\n",
       "      <th>3</th>\n",
       "      <td>AWjXLnyyRxPSIh2RASUl</td>\n",
       "      <td>2019-02-10T10:28:04Z</td>\n",
       "      <td>2019-05-18T22:09:17Z</td>\n",
       "      <td>3905 Sw 40th Boulevard</td>\n",
       "      <td>Fast Food Restaurant,Fast Food</td>\n",
       "      <td>Accommodation &amp; Food Services</td>\n",
       "      <td>Gainesville</td>\n",
       "      <td>US</td>\n",
       "      <td>us/fl/gainesville/3905sw40thboulevard/-2061630068</td>\n",
       "      <td>29.61790</td>\n",
       "      <td>-82.38360</td>\n",
       "      <td>Burger King</td>\n",
       "      <td>32608</td>\n",
       "      <td>FL</td>\n",
       "      <td>https://foursquare.com/v/burger-king/4b4d0620f...</td>\n",
       "      <td>https://locations.bk.com/fl/gainesville/3905-s...</td>\n",
       "      <td>{}</td>\n",
       "      <td>Florida</td>\n",
       "      <td>{}</td>\n",
       "      <td>average</td>\n",
       "    </tr>\n",
       "    <tr>\n",
       "      <th>4</th>\n",
       "      <td>AVwdMBXWByjofQCxmbTu</td>\n",
       "      <td>2016-06-08T16:17:17Z</td>\n",
       "      <td>2019-05-18T21:25:22Z</td>\n",
       "      <td>8256 Orion Ave</td>\n",
       "      <td>Mexican Restaurant,Restaurant,Mexican Restaura...</td>\n",
       "      <td>Accommodation &amp; Food Services</td>\n",
       "      <td>Van Nuys</td>\n",
       "      <td>US</td>\n",
       "      <td>us/ca/vannuys/8256orionave/-864103396</td>\n",
       "      <td>34.22080</td>\n",
       "      <td>-118.47190</td>\n",
       "      <td>Taco Bell</td>\n",
       "      <td>91406</td>\n",
       "      <td>CA</td>\n",
       "      <td>http://www.citysearch.com/profile/633545994/va...</td>\n",
       "      <td>https://locations.tacobell.com/ca/van-nuys/825...</td>\n",
       "      <td>{'open-hours': 'Regular HoursMon - Thu:9:00 am...</td>\n",
       "      <td>California</td>\n",
       "      <td>{'open-hours': 'regular hoursmon - thu:9:00 am...</td>\n",
       "      <td>below average</td>\n",
       "    </tr>\n",
       "    <tr>\n",
       "      <th>5</th>\n",
       "      <td>AVwdTP_RkufWRAb54dbQ</td>\n",
       "      <td>2015-11-23T19:00:21Z</td>\n",
       "      <td>2019-05-18T20:32:24Z</td>\n",
       "      <td>2994 Crawfordville Hwy</td>\n",
       "      <td>Restaurant,Fast Food Restaurant,Fast Food,Hamb...</td>\n",
       "      <td>Accommodation &amp; Food Services</td>\n",
       "      <td>Crawfordville</td>\n",
       "      <td>US</td>\n",
       "      <td>us/fl/crawfordville/2994crawfordvillehwy/69649...</td>\n",
       "      <td>30.17840</td>\n",
       "      <td>-84.37560</td>\n",
       "      <td>Hardee's</td>\n",
       "      <td>32327</td>\n",
       "      <td>FL</td>\n",
       "      <td>http://www.citysearch.com/profile/2284945/craw...</td>\n",
       "      <td>https://www.hardees.com/?utm_source=Yext&amp;utm_m...</td>\n",
       "      <td>{}</td>\n",
       "      <td>Florida</td>\n",
       "      <td>{}</td>\n",
       "      <td>average</td>\n",
       "    </tr>\n",
       "    <tr>\n",
       "      <th>6</th>\n",
       "      <td>AWiEBGy03-Khe5l_ym4U</td>\n",
       "      <td>2019-01-25T07:20:13Z</td>\n",
       "      <td>2019-05-18T20:32:15Z</td>\n",
       "      <td>3750 NW 13th Street</td>\n",
       "      <td>Fast Food,Chicken,Restaurants</td>\n",
       "      <td>Accommodation &amp; Food Services</td>\n",
       "      <td>Gainesville</td>\n",
       "      <td>US</td>\n",
       "      <td>us/fl/gainesville/3750nw13thstreet/106088</td>\n",
       "      <td>29.68580</td>\n",
       "      <td>-82.33970</td>\n",
       "      <td>KFC</td>\n",
       "      <td>32609</td>\n",
       "      <td>FL</td>\n",
       "      <td>http://www.citysearch.com/profile/44602712/gai...</td>\n",
       "      <td>https://www.kfc.com/store-locator?query=32609</td>\n",
       "      <td>{}</td>\n",
       "      <td>Florida</td>\n",
       "      <td>{}</td>\n",
       "      <td>average</td>\n",
       "    </tr>\n",
       "    <tr>\n",
       "      <th>7</th>\n",
       "      <td>AWmf_r7xIxWefVJwMY1g</td>\n",
       "      <td>2019-03-21T11:03:37Z</td>\n",
       "      <td>2019-05-18T17:50:19Z</td>\n",
       "      <td>990 N. Western Ave.</td>\n",
       "      <td>Mexican,Breakfast,Vegetarian,Fast Food,Restaur...</td>\n",
       "      <td>Accommodation &amp; Food Services</td>\n",
       "      <td>Los Angeles</td>\n",
       "      <td>US</td>\n",
       "      <td>us/ca/losangeles/990n.westernave./-864103396</td>\n",
       "      <td>34.08830</td>\n",
       "      <td>-118.30880</td>\n",
       "      <td>Taco Bell</td>\n",
       "      <td>90029</td>\n",
       "      <td>CA</td>\n",
       "      <td>http://www.citysearch.com/profile/56462/los_an...</td>\n",
       "      <td>https://locations.tacobell.com/ca/los-angeles/...</td>\n",
       "      <td>{}</td>\n",
       "      <td>California</td>\n",
       "      <td>{}</td>\n",
       "      <td>average</td>\n",
       "    </tr>\n",
       "    <tr>\n",
       "      <th>8</th>\n",
       "      <td>AVwc0GNEByjofQCxieao</td>\n",
       "      <td>2016-03-29T04:46:55Z</td>\n",
       "      <td>2019-05-18T16:24:17Z</td>\n",
       "      <td>435 Germantown Pike</td>\n",
       "      <td>Italian Restaurant,Caterers,Italian,Hot dog re...</td>\n",
       "      <td>Accommodation &amp; Food Services</td>\n",
       "      <td>Lafayette Hill</td>\n",
       "      <td>US</td>\n",
       "      <td>us/pa/lafayettehill/435germantownpike/697681611</td>\n",
       "      <td>40.09140</td>\n",
       "      <td>-75.25930</td>\n",
       "      <td>Tonelli's Takeout</td>\n",
       "      <td>19444-1815</td>\n",
       "      <td>PA</td>\n",
       "      <td>https://www.yellowpages.com/lafayette-hill-pa/...</td>\n",
       "      <td>http://www.tonellistakeout.com/,http://www.you...</td>\n",
       "      <td>{'open-hours': 'Regular HoursMon - Thu:11:00 a...</td>\n",
       "      <td>Pennsylvania</td>\n",
       "      <td>{'open-hours': 'regular hoursmon - thu:11:00 a...</td>\n",
       "      <td>average</td>\n",
       "    </tr>\n",
       "    <tr>\n",
       "      <th>9</th>\n",
       "      <td>AWmfMlKga4HuVbedosmu</td>\n",
       "      <td>2019-03-21T07:08:33Z</td>\n",
       "      <td>2019-05-18T16:16:45Z</td>\n",
       "      <td>3111 Mahan Dr.</td>\n",
       "      <td>Traditional American,Fast Food,Chicken,Hamburg...</td>\n",
       "      <td>Accommodation &amp; Food Services</td>\n",
       "      <td>Tallahassee</td>\n",
       "      <td>US</td>\n",
       "      <td>us/fl/tallahassee/3111mahandr./1536894814</td>\n",
       "      <td>30.45980</td>\n",
       "      <td>-84.22500</td>\n",
       "      <td>Checkers</td>\n",
       "      <td>32308</td>\n",
       "      <td>FL</td>\n",
       "      <td>http://www.citysearch.com/profile/638885135/ta...</td>\n",
       "      <td>https://locations.checkers.com/fl/tallahassee/...</td>\n",
       "      <td>{}</td>\n",
       "      <td>Florida</td>\n",
       "      <td>{}</td>\n",
       "      <td>average</td>\n",
       "    </tr>\n",
       "  </tbody>\n",
       "</table>\n",
       "</div>"
      ],
      "text/plain": [
       "                     id             dateAdded           dateUpdated  \\\n",
       "0  AWrROxTbcuP9ADUBCmQx  2019-05-19T17:54:31Z  2019-05-19T17:54:31Z   \n",
       "1  AVweEg_oByjofQCxvA1V  2016-07-06T20:11:39Z  2019-05-19T07:41:13Z   \n",
       "2  AVwdQloekufWRAb54Asw  2016-05-05T12:40:33Z  2019-05-18T23:45:36Z   \n",
       "3  AWjXLnyyRxPSIh2RASUl  2019-02-10T10:28:04Z  2019-05-18T22:09:17Z   \n",
       "4  AVwdMBXWByjofQCxmbTu  2016-06-08T16:17:17Z  2019-05-18T21:25:22Z   \n",
       "5  AVwdTP_RkufWRAb54dbQ  2015-11-23T19:00:21Z  2019-05-18T20:32:24Z   \n",
       "6  AWiEBGy03-Khe5l_ym4U  2019-01-25T07:20:13Z  2019-05-18T20:32:15Z   \n",
       "7  AWmf_r7xIxWefVJwMY1g  2019-03-21T11:03:37Z  2019-05-18T17:50:19Z   \n",
       "8  AVwc0GNEByjofQCxieao  2016-03-29T04:46:55Z  2019-05-18T16:24:17Z   \n",
       "9  AWmfMlKga4HuVbedosmu  2019-03-21T07:08:33Z  2019-05-18T16:16:45Z   \n",
       "\n",
       "                  address                                         categories  \\\n",
       "0      198 Central Avenue  Hamburgers and Hot Dogs,American Restaurants,F...   \n",
       "1       527 Bald Eagle Dr  Caterers,Seafood restaurants,Steak and chop re...   \n",
       "2      3121 Yosemite Blvd  Asian Restaurants,Caterers,Chinese Restaurants...   \n",
       "3  3905 Sw 40th Boulevard                     Fast Food Restaurant,Fast Food   \n",
       "4          8256 Orion Ave  Mexican Restaurant,Restaurant,Mexican Restaura...   \n",
       "5  2994 Crawfordville Hwy  Restaurant,Fast Food Restaurant,Fast Food,Hamb...   \n",
       "6     3750 NW 13th Street                      Fast Food,Chicken,Restaurants   \n",
       "7     990 N. Western Ave.  Mexican,Breakfast,Vegetarian,Fast Food,Restaur...   \n",
       "8     435 Germantown Pike  Italian Restaurant,Caterers,Italian,Hot dog re...   \n",
       "9          3111 Mahan Dr.  Traditional American,Fast Food,Chicken,Hamburg...   \n",
       "\n",
       "               primaryCategories            city country  \\\n",
       "0  Accommodation & Food Services    White Plains      US   \n",
       "1  Accommodation & Food Services    Marco Island      US   \n",
       "2  Accommodation & Food Services         Modesto      US   \n",
       "3  Accommodation & Food Services     Gainesville      US   \n",
       "4  Accommodation & Food Services        Van Nuys      US   \n",
       "5  Accommodation & Food Services   Crawfordville      US   \n",
       "6  Accommodation & Food Services     Gainesville      US   \n",
       "7  Accommodation & Food Services     Los Angeles      US   \n",
       "8  Accommodation & Food Services  Lafayette Hill      US   \n",
       "9  Accommodation & Food Services     Tallahassee      US   \n",
       "\n",
       "                                                keys  latitude  longitude  \\\n",
       "0      us/ny/whiteplains/198centralavenue/-904778134  41.03715  -73.77877   \n",
       "1        us/fl/marcoisland/527baldeagledr/-873322027  25.95090  -81.72280   \n",
       "2          us/ca/modesto/3121yosemiteblvd/1235262340  37.63860 -120.93670   \n",
       "3  us/fl/gainesville/3905sw40thboulevard/-2061630068  29.61790  -82.38360   \n",
       "4              us/ca/vannuys/8256orionave/-864103396  34.22080 -118.47190   \n",
       "5  us/fl/crawfordville/2994crawfordvillehwy/69649...  30.17840  -84.37560   \n",
       "6          us/fl/gainesville/3750nw13thstreet/106088  29.68580  -82.33970   \n",
       "7       us/ca/losangeles/990n.westernave./-864103396  34.08830 -118.30880   \n",
       "8    us/pa/lafayettehill/435germantownpike/697681611  40.09140  -75.25930   \n",
       "9          us/fl/tallahassee/3111mahandr./1536894814  30.45980  -84.22500   \n",
       "\n",
       "                          name  postalCode province  \\\n",
       "0     Nathan's Famous Hot Dogs       10606       NY   \n",
       "1          Kretch's Restaurant       34145       FL   \n",
       "2  Fat Wong Chinese Food To Go       95354       CA   \n",
       "3                  Burger King       32608       FL   \n",
       "4                    Taco Bell       91406       CA   \n",
       "5                     Hardee's       32327       FL   \n",
       "6                          KFC       32609       FL   \n",
       "7                    Taco Bell       90029       CA   \n",
       "8            Tonelli's Takeout  19444-1815       PA   \n",
       "9                     Checkers       32308       FL   \n",
       "\n",
       "                                          sourceURLs  \\\n",
       "0  https://www.yellowpages.com/white-plains-ny/mi...   \n",
       "1  https://www.yellowbook.com/profile/kretchs-res...   \n",
       "2  http://www.citysearch.com/profile/1154859/mode...   \n",
       "3  https://foursquare.com/v/burger-king/4b4d0620f...   \n",
       "4  http://www.citysearch.com/profile/633545994/va...   \n",
       "5  http://www.citysearch.com/profile/2284945/craw...   \n",
       "6  http://www.citysearch.com/profile/44602712/gai...   \n",
       "7  http://www.citysearch.com/profile/56462/los_an...   \n",
       "8  https://www.yellowpages.com/lafayette-hill-pa/...   \n",
       "9  http://www.citysearch.com/profile/638885135/ta...   \n",
       "\n",
       "                                            websites  \\\n",
       "0                           http://nathansfamous.com   \n",
       "1  http://www.kretchs.com,http://kretchs.com/,htt...   \n",
       "2                 http://www.fatwongchinesefood.com/   \n",
       "3  https://locations.bk.com/fl/gainesville/3905-s...   \n",
       "4  https://locations.tacobell.com/ca/van-nuys/825...   \n",
       "5  https://www.hardees.com/?utm_source=Yext&utm_m...   \n",
       "6      https://www.kfc.com/store-locator?query=32609   \n",
       "7  https://locations.tacobell.com/ca/los-angeles/...   \n",
       "8  http://www.tonellistakeout.com/,http://www.you...   \n",
       "9  https://locations.checkers.com/fl/tallahassee/...   \n",
       "\n",
       "                                            features         state  \\\n",
       "0  {'open-hours': 'Do you know the hours for this...      New York   \n",
       "1                                                 {}       Florida   \n",
       "2                                                 {}    California   \n",
       "3                                                 {}       Florida   \n",
       "4  {'open-hours': 'Regular HoursMon - Thu:9:00 am...    California   \n",
       "5                                                 {}       Florida   \n",
       "6                                                 {}       Florida   \n",
       "7                                                 {}    California   \n",
       "8  {'open-hours': 'Regular HoursMon - Thu:11:00 a...  Pennsylvania   \n",
       "9                                                 {}       Florida   \n",
       "\n",
       "                                        feature_dict    price range  \n",
       "0  {'open-hours': 'do you know the hours for this...        average  \n",
       "1                                                 {}        average  \n",
       "2                                                 {}        average  \n",
       "3                                                 {}        average  \n",
       "4  {'open-hours': 'regular hoursmon - thu:9:00 am...  below average  \n",
       "5                                                 {}        average  \n",
       "6                                                 {}        average  \n",
       "7                                                 {}        average  \n",
       "8  {'open-hours': 'regular hoursmon - thu:11:00 a...        average  \n",
       "9                                                 {}        average  "
      ]
     },
     "execution_count": 13,
     "metadata": {},
     "output_type": "execute_result"
    }
   ],
   "source": [
    "restaurant_data.head(10)"
   ]
  },
  {
   "cell_type": "code",
   "execution_count": 14,
   "id": "ae92d8e0",
   "metadata": {
    "colab": {
     "base_uri": "https://localhost:8080/"
    },
    "id": "ae92d8e0",
    "outputId": "d5f1113c-bcad-4a55-fbe8-8c7e92f428b2",
    "scrolled": true
   },
   "outputs": [
    {
     "name": "stdout",
     "output_type": "stream",
     "text": [
      "\n",
      "    You are an excellent food blogger or food critic expert and your goal is to recommend the best restaurant for a user in\n",
      "    'New York', 'Florida', 'California', 'Pennsylvania', 'Texas' or 'Washington'.\n",
      "    You need to ask relevant questions and understand the user food and dietary preferences by analysing the user's responses.\n",
      "    You final objective is to fill the values for the different keys ('cuisine','delivery location','is free parking','is dine-in','price range') in the python dictionary and be confident of the values.\n",
      "    These key value pairs define the user's food and dietary preferences.\n",
      "    The python dictionary looks like this\n",
      "    {'cuisine':'values','delivery location':'values','is free parking':'values','is dine-in':'values','price range':'values'}\n",
      "    The value for 'delivery location' should be either 'New York' or 'NY', 'Florida' or 'FL', 'California' or 'CA', 'Pennsylvania' or 'PA', 'Texas' or 'TX','Washington' or 'WA' extracted from the user's response.\n",
      "    The value for 'is free parking','is dine-in' should be either 'Yes' or 'No'.\n",
      "    The value for 'price range' should be either 'average', 'below average', 'above average'.\n",
      "    The value for 'cuisine' can be any kind of restaurants like 'mexican', 'chinese', 'indian', 'japanese', 'chinese', 'asian', 'fast food', 'pizza', 'hamburgers', 'hot dogs', 'sea food' etc\n",
      "\n",
      "    ####\n",
      "    Here are some instructions around the values for the different keys. If you do not follow this, you'll be heavily penalised:\n",
      "    Do not randomly assign values to any of the keys.\n",
      "    - The values need to be inferred from the user's response.\n",
      "    ####\n",
      "\n",
      "    To fill the dictionary, you need to have the following chain of thoughts:\n",
      "    Follow the chain-of-thoughts below and only output the final updated python dictionary for the keys as described in {'cuisine': '_', 'delivery location': '_', 'is free parking': '_', 'is dine-in': '_', 'price range': '_'}. \n",
      "\n",
      "    ####\n",
      "    Thought 1: Ask a question to understand the user's food and dietary preferences. \n",
      "\n",
      "    If their food and cuisine preference is unclear. Ask followup questions to understand their needs.\n",
      "    You are trying to fill the values of all the keys {'cuisine', 'delivery location', is free parking','is dine-in','price range'} in the python dictionary by understanding the user requirements.\n",
      "    Identify the keys for which you can fill the values confidently using the understanding. \n",
      "\n",
      "    Remember the instructions around the values for the different keys.\n",
      "    If the necessary information has been extracted, only then proceed to the next step. \n",
      "\n",
      "    Otherwise, rephrase the question to capture their profile clearly. \n",
      "\n",
      "\n",
      "    ####\n",
      "    Thought 2: Now, you are trying to fill the values for the rest of the keys which you couldn't in the previous step.\n",
      "    Remember the instructions around the values for the different keys.\n",
      "    Ask questions you might have for all the keys to strengthen your understanding of the user's profile.\n",
      "    If yes, move to the next Thought. If no, ask question on the keys whose values you are unsure of. \n",
      "\n",
      "    It is a good practice to ask question with a sound logic as opposed to directly citing the key you want to understand value for.\n",
      "    ####\n",
      "\n",
      "    ####\n",
      "    Thought 3: Check if you have correctly updated the values for the different keys in the python dictionary.\n",
      "    If you are not confident about any of the values, ask clarifying questions.\n",
      "    ####\n",
      "\n",
      "    ####\n",
      "    Here is a sample conversation between the user and assistant:\n",
      "    User: Hi there! I'm looking for a good restaurant to have dinner tonight. Any recommendations?\n",
      "\n",
      "    Assistant: Of course! Which US state or province is your ideal location?\n",
      "\n",
      "    User: California or Pennsylvania\n",
      "\n",
      "    Assistant: Noted! Could you please tell what type of cuisine are you in the mood for?\n",
      "\n",
      "    User: I'm open to anything, but I'm leaning towards Italian or Mexican food.\n",
      "\n",
      "    Assistant: Thank you for providing that information. Would you require parking facilities?\n",
      "\n",
      "    User: Yes. I need free parking.\n",
      "    .\n",
      "    Assistant: I appreciate you sharing this information. Which do you prefer: takeout or dining in?\n",
      "\n",
      "    User: I prefer free dining in.\n",
      "\n",
      "    Assistant: Could you kindly let me know your budget? This will help me find options that fit within your price range.\n",
      "\n",
      "    User: Less than 25 dollar\n",
      "\n",
      "    Assistant: Great! Then For Italian cuisine, I recommend trying out \"Tonelli's Takeout\" in '435 Germantown Pike, Pennsylvania'. They have amazing Pizza and a cozy atmosphere. For Mexican food, \"Taco Bell\" in \"8256 Orion Ave, California\" is fantastic. They serve authentic Mexican cuisine.\n",
      "\n",
      "    User: Thank you so much for your help!\n",
      "\n",
      "    Assistant: {'cuisine': 'values', 'delivery location': 'values', 'is free parking': 'values', 'is dine-in': 'values', 'price range': 'values'}\n",
      "               ####\n",
      "\n",
      "    Start with a short welcome message and encourage the user to share their requirements. Ask user to type 'Exit' to end the chat.\n",
      "    Keep in mind while asking for delivery location always ask to choose from one of the following states in US.\n",
      "    'New York', 'Florida', 'California', 'Pennsylvania', 'Texas' or 'Washington'\n",
      "    \n"
     ]
    }
   ],
   "source": [
    "debug_conversation = initialize_conversation()\n",
    "# Let's look at the content in the debug_conversation key\n",
    "print(debug_conversation[0]['content'])"
   ]
  },
  {
   "cell_type": "code",
   "execution_count": 15,
   "id": "ytJ1tPNDMtZF",
   "metadata": {
    "colab": {
     "base_uri": "https://localhost:8080/"
    },
    "id": "ytJ1tPNDMtZF",
    "outputId": "d56d34c5-2f6f-4ed2-d3cf-10001ef80dcf"
   },
   "outputs": [
    {
     "name": "stdout",
     "output_type": "stream",
     "text": [
      "\n",
      "    You are an excellent food blogger or food critic expert and your goal is to recommend the best restaurant for a user in\n",
      "    'New York', 'Florida', 'California', 'Pennsylvania', 'Texas' or 'Washington'.\n",
      "    You need to ask relevant questions and understand the user food and dietary preferences by analysing the user's responses.\n",
      "    You final objective is to fill the values for the different keys ('cuisine','delivery location','is free parking','is dine-in','price range') in the python dictionary and be confident of the values.\n",
      "    These key value pairs define the user's food and dietary preferences.\n",
      "    The python dictionary looks like this\n",
      "    {'cuisine':'values','delivery location':'values','is free parking':'values','is dine-in':'values','price range':'values'}\n",
      "    The value for 'delivery location' should be either 'New York' or 'NY', 'Florida' or 'FL', 'California' or 'CA', 'Pennsylvania' or 'PA', 'Texas' or 'TX','Washington' or 'WA' extracted from the user's response.\n",
      "    The value for 'is free parking','is dine-in' should be either 'Yes' or 'No'.\n",
      "    The value for 'price range' should be either 'average', 'below average', 'above average'.\n",
      "    The value for 'cuisine' can be any kind of restaurants like 'mexican', 'chinese', 'indian', 'japanese', 'chinese', 'asian', 'fast food', 'pizza', 'hamburgers', 'hot dogs', 'sea food' etc\n",
      "\n",
      "    ####\n",
      "    Here are some instructions around the values for the different keys. If you do not follow this, you'll be heavily penalised:\n",
      "    Do not randomly assign values to any of the keys.\n",
      "    - The values need to be inferred from the user's response.\n",
      "    ####\n",
      "\n",
      "    To fill the dictionary, you need to have the following chain of thoughts:\n",
      "    Follow the chain-of-thoughts below and only output the final updated python dictionary for the keys as described in {'cuisine': '_', 'delivery location': '_', 'is free parking': '_', 'is dine-in': '_', 'price range': '_'}. \n",
      "\n",
      "    ####\n",
      "    Thought 1: Ask a question to understand the user's food and dietary preferences. \n",
      "\n",
      "    If their food and cuisine preference is unclear. Ask followup questions to understand their needs.\n",
      "    You are trying to fill the values of all the keys {'cuisine', 'delivery location', is free parking','is dine-in','price range'} in the python dictionary by understanding the user requirements.\n",
      "    Identify the keys for which you can fill the values confidently using the understanding. \n",
      "\n",
      "    Remember the instructions around the values for the different keys.\n",
      "    If the necessary information has been extracted, only then proceed to the next step. \n",
      "\n",
      "    Otherwise, rephrase the question to capture their profile clearly. \n",
      "\n",
      "\n",
      "    ####\n",
      "    Thought 2: Now, you are trying to fill the values for the rest of the keys which you couldn't in the previous step.\n",
      "    Remember the instructions around the values for the different keys.\n",
      "    Ask questions you might have for all the keys to strengthen your understanding of the user's profile.\n",
      "    If yes, move to the next Thought. If no, ask question on the keys whose values you are unsure of. \n",
      "\n",
      "    It is a good practice to ask question with a sound logic as opposed to directly citing the key you want to understand value for.\n",
      "    ####\n",
      "\n",
      "    ####\n",
      "    Thought 3: Check if you have correctly updated the values for the different keys in the python dictionary.\n",
      "    If you are not confident about any of the values, ask clarifying questions.\n",
      "    ####\n",
      "\n",
      "    ####\n",
      "    Here is a sample conversation between the user and assistant:\n",
      "    User: Hi there! I'm looking for a good restaurant to have dinner tonight. Any recommendations?\n",
      "\n",
      "    Assistant: Of course! Which US state or province is your ideal location?\n",
      "\n",
      "    User: California or Pennsylvania\n",
      "\n",
      "    Assistant: Noted! Could you please tell what type of cuisine are you in the mood for?\n",
      "\n",
      "    User: I'm open to anything, but I'm leaning towards Italian or Mexican food.\n",
      "\n",
      "    Assistant: Thank you for providing that information. Would you require parking facilities?\n",
      "\n",
      "    User: Yes. I need free parking.\n",
      "    .\n",
      "    Assistant: I appreciate you sharing this information. Which do you prefer: takeout or dining in?\n",
      "\n",
      "    User: I prefer free dining in.\n",
      "\n",
      "    Assistant: Could you kindly let me know your budget? This will help me find options that fit within your price range.\n",
      "\n",
      "    User: Less than 25 dollar\n",
      "\n",
      "    Assistant: Great! Then For Italian cuisine, I recommend trying out \"Tonelli's Takeout\" in '435 Germantown Pike, Pennsylvania'. They have amazing Pizza and a cozy atmosphere. For Mexican food, \"Taco Bell\" in \"8256 Orion Ave, California\" is fantastic. They serve authentic Mexican cuisine.\n",
      "\n",
      "    User: Thank you so much for your help!\n",
      "\n",
      "    Assistant: {'cuisine': 'values', 'delivery location': 'values', 'is free parking': 'values', 'is dine-in': 'values', 'price range': 'values'}\n",
      "               ####\n",
      "\n",
      "    Start with a short welcome message and encourage the user to share their requirements. Ask user to type 'Exit' to end the chat.\n",
      "    Keep in mind while asking for delivery location always ask to choose from one of the following states in US.\n",
      "    'New York', 'Florida', 'California', 'Pennsylvania', 'Texas' or 'Washington'\n",
      "    \n"
     ]
    }
   ],
   "source": [
    "# Let's initialise conversation\n",
    "system_message = initialize_conversation()\n",
    "print(system_message[0][\"content\"])"
   ]
  },
  {
   "cell_type": "code",
   "execution_count": 16,
   "id": "dYShGKumNEIM",
   "metadata": {
    "id": "dYShGKumNEIM"
   },
   "outputs": [],
   "source": [
    "# This function perform LLM call using the Chat Completions API to get the LLM response.\n",
    "# Define a Chat Completions API call\n",
    "# Retry up to 6 times with exponential backoff, starting at 1 second and maxing out at 20 seconds delay\n",
    "@retry(wait=wait_random_exponential(min=1, max=20), stop=stop_after_attempt(6))\n",
    "def get_chat_completions(input, json_format = False):\n",
    "    MODEL = 'gpt-3.5-turbo'\n",
    "\n",
    "    system_message_json_output = \"\"\"<<. Return output in JSON format to the key output.>>\"\"\"\n",
    "\n",
    "    # If the output is required to be in JSON format\n",
    "    if json_format == True:\n",
    "        # Append the input prompt to include JSON response as specified by OpenAI\n",
    "        input[0]['content'] += system_message_json_output\n",
    "\n",
    "        # JSON return type specified\n",
    "        chat_completion_json = openai.chat.completions.create(\n",
    "            model = MODEL,\n",
    "            messages = input,\n",
    "            response_format = { \"type\": \"json_object\"},\n",
    "            seed = 1234)\n",
    "\n",
    "        output = json.loads(chat_completion_json.choices[0].message.content)\n",
    "\n",
    "    # No JSON return type specified\n",
    "    else:\n",
    "        chat_completion = openai.chat.completions.create(\n",
    "            model = MODEL,\n",
    "            messages = input,\n",
    "            seed = 2345)\n",
    "\n",
    "        output = chat_completion.choices[0].message.content\n",
    "\n",
    "    return output"
   ]
  },
  {
   "cell_type": "code",
   "execution_count": 17,
   "id": "3c369bd0",
   "metadata": {
    "id": "3c369bd0"
   },
   "outputs": [],
   "source": [
    "# We've created a small helper test function to ensure the model's response is consistent.\n",
    "def iterate_llm_response(funct, debug_response, num = 10):\n",
    "    \"\"\"\n",
    "    Calls a specified function repeatedly and prints the results.\n",
    "    This function is designed to test the consistency of a response from a given function.\n",
    "    It calls the function multiple times (default is 10) and prints out the iteration count,\n",
    "    the function's response(s).\n",
    "    Args:\n",
    "        funct (function): The function to be tested. This function should accept a single argument\n",
    "                          and return the response value(s).\n",
    "        debug_response (dict): The input argument to be passed to 'funct' on each call.\n",
    "        num (int, optional): The number of times 'funct' will be called. Defaults to 10.\n",
    "    Returns:\n",
    "        This function only returns the results to the console.\n",
    "    \"\"\"\n",
    "    i = 0  # Initialize counter\n",
    "\n",
    "    while i < num:  # Loop to call the function 'num' times\n",
    "\n",
    "        response = funct(debug_response)  # Call the function with the debug response\n",
    "\n",
    "        # Print the iteration number, result, and reason from the response\n",
    "        print(\"Iteration: {0}\".format(i))\n",
    "        print(response)\n",
    "        print('-' * 50)  # Print a separator line for readability\n",
    "        i += 1  # Increment the counter\n",
    "\n",
    "# Example usage: test the consistency of responses from 'intent_confirmation_layer'\n",
    "# iterate_llm_response(get_chat_completions, messages)"
   ]
  },
  {
   "cell_type": "markdown",
   "id": "af181448",
   "metadata": {
    "id": "af181448"
   },
   "source": [
    "Let's pass the initialized conversation `debug_conversation` and see what is the assistant's response."
   ]
  },
  {
   "cell_type": "code",
   "execution_count": 18,
   "id": "7fca12a4",
   "metadata": {
    "id": "7fca12a4"
   },
   "outputs": [],
   "source": [
    "debug_user_input = \"Hi I'm Krishna! I'm looking for a good restaurant to have dinner.\""
   ]
  },
  {
   "cell_type": "code",
   "execution_count": 19,
   "id": "h1vip-2uj_M7",
   "metadata": {
    "colab": {
     "base_uri": "https://localhost:8080/"
    },
    "id": "h1vip-2uj_M7",
    "outputId": "ab5dd1a6-83bb-4f69-94bd-8e8e8a2f200a"
   },
   "outputs": [
    {
     "name": "stdout",
     "output_type": "stream",
     "text": [
      "Hi I'm Krishna! I'm looking for a good restaurant to have dinner.\n"
     ]
    }
   ],
   "source": [
    "debug_conversation.append({\"role\": \"user\", \"content\": debug_user_input})\n",
    "# print(debug_conversation[0][\"content\"]) # System Message\n",
    "print(debug_conversation[1][\"content\"]) # User Input"
   ]
  },
  {
   "cell_type": "code",
   "execution_count": 20,
   "id": "fdd0a9ed",
   "metadata": {
    "colab": {
     "base_uri": "https://localhost:8080/",
     "height": 91
    },
    "id": "fdd0a9ed",
    "outputId": "34350d31-f37a-4f36-aa7c-99c186717376"
   },
   "outputs": [
    {
     "data": {
      "text/plain": [
       "\"Hello Krishna! That's great to hear. To assist you better, could you please let me know in which US state you would like to have dinner tonight? You can choose from 'New York', 'Florida', 'California', 'Pennsylvania', 'Texas' or 'Washington'.\""
      ]
     },
     "metadata": {},
     "output_type": "display_data"
    }
   ],
   "source": [
    "# Getting the response from the Assistant by passing the conversation to the Chat Completions API\n",
    "debug_response_assistant = get_chat_completions(debug_conversation)\n",
    "display(debug_response_assistant)"
   ]
  },
  {
   "cell_type": "markdown",
   "id": "7dca90c2",
   "metadata": {
    "id": "7dca90c2"
   },
   "source": [
    "Let's play around a bit and add the following user's input `debug_user_input` to the conversation `debug_conversation` and see what the assistant responds with."
   ]
  },
  {
   "cell_type": "code",
   "execution_count": 21,
   "id": "kN2nZh_dkT2v",
   "metadata": {
    "colab": {
     "base_uri": "https://localhost:8080/"
    },
    "id": "kN2nZh_dkT2v",
    "outputId": "b6e2754d-05be-4f54-af80-33f964f109f7"
   },
   "outputs": [
    {
     "data": {
      "text/plain": [
       "[{'role': 'system',\n",
       "  'content': '\\n    You are an excellent food blogger or food critic expert and your goal is to recommend the best restaurant for a user in\\n    \\'New York\\', \\'Florida\\', \\'California\\', \\'Pennsylvania\\', \\'Texas\\' or \\'Washington\\'.\\n    You need to ask relevant questions and understand the user food and dietary preferences by analysing the user\\'s responses.\\n    You final objective is to fill the values for the different keys (\\'cuisine\\',\\'delivery location\\',\\'is free parking\\',\\'is dine-in\\',\\'price range\\') in the python dictionary and be confident of the values.\\n    These key value pairs define the user\\'s food and dietary preferences.\\n    The python dictionary looks like this\\n    {\\'cuisine\\':\\'values\\',\\'delivery location\\':\\'values\\',\\'is free parking\\':\\'values\\',\\'is dine-in\\':\\'values\\',\\'price range\\':\\'values\\'}\\n    The value for \\'delivery location\\' should be either \\'New York\\' or \\'NY\\', \\'Florida\\' or \\'FL\\', \\'California\\' or \\'CA\\', \\'Pennsylvania\\' or \\'PA\\', \\'Texas\\' or \\'TX\\',\\'Washington\\' or \\'WA\\' extracted from the user\\'s response.\\n    The value for \\'is free parking\\',\\'is dine-in\\' should be either \\'Yes\\' or \\'No\\'.\\n    The value for \\'price range\\' should be either \\'average\\', \\'below average\\', \\'above average\\'.\\n    The value for \\'cuisine\\' can be any kind of restaurants like \\'mexican\\', \\'chinese\\', \\'indian\\', \\'japanese\\', \\'chinese\\', \\'asian\\', \\'fast food\\', \\'pizza\\', \\'hamburgers\\', \\'hot dogs\\', \\'sea food\\' etc\\n\\n    ####\\n    Here are some instructions around the values for the different keys. If you do not follow this, you\\'ll be heavily penalised:\\n    Do not randomly assign values to any of the keys.\\n    - The values need to be inferred from the user\\'s response.\\n    ####\\n\\n    To fill the dictionary, you need to have the following chain of thoughts:\\n    Follow the chain-of-thoughts below and only output the final updated python dictionary for the keys as described in {\\'cuisine\\': \\'_\\', \\'delivery location\\': \\'_\\', \\'is free parking\\': \\'_\\', \\'is dine-in\\': \\'_\\', \\'price range\\': \\'_\\'}. \\n\\n    ####\\n    Thought 1: Ask a question to understand the user\\'s food and dietary preferences. \\n\\n    If their food and cuisine preference is unclear. Ask followup questions to understand their needs.\\n    You are trying to fill the values of all the keys {\\'cuisine\\', \\'delivery location\\', is free parking\\',\\'is dine-in\\',\\'price range\\'} in the python dictionary by understanding the user requirements.\\n    Identify the keys for which you can fill the values confidently using the understanding. \\n\\n    Remember the instructions around the values for the different keys.\\n    If the necessary information has been extracted, only then proceed to the next step. \\n\\n    Otherwise, rephrase the question to capture their profile clearly. \\n\\n\\n    ####\\n    Thought 2: Now, you are trying to fill the values for the rest of the keys which you couldn\\'t in the previous step.\\n    Remember the instructions around the values for the different keys.\\n    Ask questions you might have for all the keys to strengthen your understanding of the user\\'s profile.\\n    If yes, move to the next Thought. If no, ask question on the keys whose values you are unsure of. \\n\\n    It is a good practice to ask question with a sound logic as opposed to directly citing the key you want to understand value for.\\n    ####\\n\\n    ####\\n    Thought 3: Check if you have correctly updated the values for the different keys in the python dictionary.\\n    If you are not confident about any of the values, ask clarifying questions.\\n    ####\\n\\n    ####\\n    Here is a sample conversation between the user and assistant:\\n    User: Hi there! I\\'m looking for a good restaurant to have dinner tonight. Any recommendations?\\n\\n    Assistant: Of course! Which US state or province is your ideal location?\\n\\n    User: California or Pennsylvania\\n\\n    Assistant: Noted! Could you please tell what type of cuisine are you in the mood for?\\n\\n    User: I\\'m open to anything, but I\\'m leaning towards Italian or Mexican food.\\n\\n    Assistant: Thank you for providing that information. Would you require parking facilities?\\n\\n    User: Yes. I need free parking.\\n    .\\n    Assistant: I appreciate you sharing this information. Which do you prefer: takeout or dining in?\\n\\n    User: I prefer free dining in.\\n\\n    Assistant: Could you kindly let me know your budget? This will help me find options that fit within your price range.\\n\\n    User: Less than 25 dollar\\n\\n    Assistant: Great! Then For Italian cuisine, I recommend trying out \"Tonelli\\'s Takeout\" in \\'435 Germantown Pike, Pennsylvania\\'. They have amazing Pizza and a cozy atmosphere. For Mexican food, \"Taco Bell\" in \"8256 Orion Ave, California\" is fantastic. They serve authentic Mexican cuisine.\\n\\n    User: Thank you so much for your help!\\n\\n    Assistant: {\\'cuisine\\': \\'values\\', \\'delivery location\\': \\'values\\', \\'is free parking\\': \\'values\\', \\'is dine-in\\': \\'values\\', \\'price range\\': \\'values\\'}\\n               ####\\n\\n    Start with a short welcome message and encourage the user to share their requirements. Ask user to type \\'Exit\\' to end the chat.\\n    Keep in mind while asking for delivery location always ask to choose from one of the following states in US.\\n    \\'New York\\', \\'Florida\\', \\'California\\', \\'Pennsylvania\\', \\'Texas\\' or \\'Washington\\'\\n    '},\n",
       " {'role': 'user',\n",
       "  'content': \"Hi I'm Krishna! I'm looking for a good restaurant to have dinner.\"},\n",
       " {'role': 'system',\n",
       "  'content': \"Hello Krishna! That's great to hear. To assist you better, could you please let me know in which US state you would like to have dinner tonight? You can choose from 'New York', 'Florida', 'California', 'Pennsylvania', 'Texas' or 'Washington'.\"}]"
      ]
     },
     "execution_count": 21,
     "metadata": {},
     "output_type": "execute_result"
    }
   ],
   "source": [
    "# Let's append this to the conversation list\n",
    "debug_conversation.append(({\"role\": \"system\", \"content\": debug_response_assistant}))\n",
    "debug_conversation"
   ]
  },
  {
   "cell_type": "markdown",
   "id": "389ae50b",
   "metadata": {
    "id": "389ae50b"
   },
   "source": [
    "Typically, whenever the chatbot is interacting with the user, all the conversations should be moderated to identify any inappropriate content. Let's look at the function that can help with it."
   ]
  },
  {
   "cell_type": "markdown",
   "id": "5cc13511",
   "metadata": {
    "id": "5cc13511"
   },
   "source": [
    "### `moderation_check()`:\n",
    " This checks if the user's or the assistant's message is inappropriate. If any of these is inappropriate, you can add a break statement to end the conversation."
   ]
  },
  {
   "cell_type": "code",
   "execution_count": 22,
   "id": "e5c799b4",
   "metadata": {
    "id": "e5c799b4"
   },
   "outputs": [],
   "source": [
    "# Define a function called moderation_check that takes user_input as a parameter.\n",
    "# This checks if the user's or the assistant's message is inappropriate. If any of these is inappropriate, you can add a break statement to end the conversation.\n",
    "def moderation_check(user_input):\n",
    "    # Call the OpenAI API to perform moderation on the user's input.\n",
    "    response = openai.moderations.create(input=user_input)\n",
    "\n",
    "    # Extract the moderation result from the API response.\n",
    "    moderation_output = response.results[0].flagged\n",
    "    # Check if the input was flagged by the moderation system.\n",
    "    if response.results[0].flagged == True:\n",
    "        # If flagged, return \"Flagged\"\n",
    "        return \"Flagged\"\n",
    "    else:\n",
    "        # If not flagged, return \"Not Flagged\"\n",
    "        return \"Not Flagged\""
   ]
  },
  {
   "cell_type": "code",
   "execution_count": 23,
   "id": "e289d1c1",
   "metadata": {
    "colab": {
     "base_uri": "https://localhost:8080/",
     "height": 36
    },
    "id": "e289d1c1",
    "outputId": "4c4c2b08-5966-411e-e9e1-8462bf008752"
   },
   "outputs": [
    {
     "data": {
      "text/plain": [
       "'Not Flagged'"
      ]
     },
     "execution_count": 23,
     "metadata": {},
     "output_type": "execute_result"
    }
   ],
   "source": [
    "moderation_check(debug_response_assistant)"
   ]
  },
  {
   "cell_type": "markdown",
   "id": "543bca28",
   "metadata": {
    "id": "543bca28"
   },
   "source": [
    "### `intent_confirmation_layer()`:\n",
    "\n",
    "This function takes the assistant's response and evaluates if the chatbot has captured the user's profile clearly. Specifically, this checks if the following properties for the user has been captured or not\n",
    "   - 'cuisine'\n",
    "   - 'delivery location'\n",
    "   - 'is free parking'\n",
    "   - 'is dine-in'\n",
    "   - 'price range'"
   ]
  },
  {
   "cell_type": "code",
   "execution_count": 24,
   "id": "c3076749",
   "metadata": {},
   "outputs": [],
   "source": [
    "def intent_confirmation_layer(response_assistant):\n",
    "\n",
    "    delimiter = \"####\"\n",
    "\n",
    "    prompt = f\"\"\"\n",
    "    You are a senior evaluator who has an eye for detail.The input text will contain a user's food and dietary preferences captured through 7 keys.\n",
    "    You are provided an input. \n",
    "    You need to evaluate if the input text has the following keys \n",
    "    {{'cuisine':'values',\n",
    "     'delivery location':'values',\n",
    "     'is free parking':'values',\n",
    "     'is dine-in':'values',\n",
    "     'price range':'values'}}\n",
    "     \n",
    "    Next you need to evaluate if the keys have the the values filled correctly.\n",
    "    Only output a one-word string in JSON format at the key 'result' - Yes/No.\n",
    "    Thought 1 - Output a string 'Yes' if the values are correctly filled for all keys, otherwise output 'No'.\n",
    "    Thought 2 - If the answer is No, mention the reason in the key 'reason'.\n",
    "    THought 3 - Think carefully before the answering.\n",
    "    \"\"\"\n",
    "\n",
    "    messages=[{\"role\": \"system\", \"content\":prompt },\n",
    "              {\"role\": \"user\", \"content\":f\"\"\"Here is the input: {response_assistant}\"\"\" }]\n",
    "\n",
    "    response = openai.chat.completions.create(\n",
    "                                    model=\"gpt-3.5-turbo\",\n",
    "                                    messages = messages,\n",
    "                                    response_format={ \"type\": \"json_object\" },\n",
    "                                    seed = 1234\n",
    "                                    )\n",
    "\n",
    "    json_output = json.loads(response.choices[0].message.content)\n",
    "\n",
    "    return json_output"
   ]
  },
  {
   "cell_type": "markdown",
   "id": "356fc469",
   "metadata": {
    "id": "356fc469"
   },
   "source": [
    "Let's apply the function to the assistant's reponse and see if it has captured the user profile."
   ]
  },
  {
   "cell_type": "code",
   "execution_count": 25,
   "id": "TbsoK64ZXnDZ",
   "metadata": {
    "colab": {
     "base_uri": "https://localhost:8080/",
     "height": 91
    },
    "id": "TbsoK64ZXnDZ",
    "outputId": "86190e98-f90c-4c65-99be-4e2e21f4473a"
   },
   "outputs": [
    {
     "data": {
      "text/plain": [
       "\"Hello Krishna! That's great to hear. To assist you better, could you please let me know in which US state you would like to have dinner tonight? You can choose from 'New York', 'Florida', 'California', 'Pennsylvania', 'Texas' or 'Washington'.\""
      ]
     },
     "execution_count": 25,
     "metadata": {},
     "output_type": "execute_result"
    }
   ],
   "source": [
    "debug_response_assistant"
   ]
  },
  {
   "cell_type": "code",
   "execution_count": 26,
   "id": "89031a63",
   "metadata": {
    "colab": {
     "base_uri": "https://localhost:8080/",
     "height": 72
    },
    "id": "89031a63",
    "outputId": "bb7b1532-e5a6-45f7-95ac-ef7ac5d9f92c"
   },
   "outputs": [
    {
     "data": {
      "text/plain": [
       "{'result': 'No', 'reason': \"Key 'cuisine' is missing\"}"
      ]
     },
     "metadata": {},
     "output_type": "display_data"
    }
   ],
   "source": [
    "debug_confirmation = intent_confirmation_layer(debug_response_assistant)\n",
    "display(debug_confirmation)"
   ]
  },
  {
   "cell_type": "code",
   "execution_count": 27,
   "id": "ODyge0F8puJJ",
   "metadata": {
    "colab": {
     "base_uri": "https://localhost:8080/"
    },
    "id": "ODyge0F8puJJ",
    "outputId": "e5ee2b5b-9ad0-4115-f8c6-200a26b3f6a2"
   },
   "outputs": [
    {
     "name": "stdout",
     "output_type": "stream",
     "text": [
      "Result: No \t Reason: Key 'cuisine' is missing\n"
     ]
    }
   ],
   "source": [
    "# Printing the value for better clarity\n",
    "print(\"Result:\",debug_confirmation.get('result'),\"\\t\", \"Reason:\", debug_confirmation.get('reason'))"
   ]
  },
  {
   "cell_type": "markdown",
   "id": "4fc34f79",
   "metadata": {
    "id": "4fc34f79"
   },
   "source": [
    "Now, you can keep adding user and assistant responses to debug_conversation and get to a point where intent_confirmation_layer() gives yes as a response. Let's see if the following response by the assistant passes the intent_confirmation_layer() test."
   ]
  },
  {
   "cell_type": "code",
   "execution_count": 28,
   "id": "ef807cad",
   "metadata": {
    "id": "ef807cad"
   },
   "outputs": [],
   "source": [
    "#Let's add the above assistant response to the debug_conversation.\n",
    "debug_conversation.append({\"role\": \"assistant\", \"content\": debug_response_assistant})"
   ]
  },
  {
   "cell_type": "markdown",
   "id": "e05526d0",
   "metadata": {
    "id": "e05526d0"
   },
   "source": [
    "Let's say that after a series of conversations you get the following response from the assistant."
   ]
  },
  {
   "cell_type": "code",
   "execution_count": 29,
   "id": "5a744f8f",
   "metadata": {
    "colab": {
     "base_uri": "https://localhost:8080/"
    },
    "id": "5a744f8f",
    "outputId": "65398107-2bfa-48c7-f9aa-46acb66a608d"
   },
   "outputs": [
    {
     "name": "stdout",
     "output_type": "stream",
     "text": [
      "\n",
      "Great, thank you for clarifying your requirements.\n",
      "Based on your inputs, here is your dietary and food preference:\n",
      "{'cuisine':'Mexican',\n",
      "    'food':'burger',\n",
      "    'delivery location':'TX',\n",
      "    'is free parking':'No',\n",
      "    'is dine-in':'Yes',\n",
      "    'price range':'average'}\n",
      "\n"
     ]
    }
   ],
   "source": [
    "# Example 1 - Let's check with the confirmation_layer if all the keys are present\n",
    "debug_response_assistant_1 = f\"\"\"\n",
    "Great, thank you for clarifying your requirements.\n",
    "Based on your inputs, here is your dietary and food preference:\n",
    "{{'cuisine':'Mexican',\n",
    "    'food':'burger',\n",
    "    'delivery location':'TX',\n",
    "    'is free parking':'No',\n",
    "    'is dine-in':'Yes',\n",
    "    'price range':'average'}}\n",
    "\"\"\"\n",
    "#Note that you are using double curly braces\n",
    "\n",
    "print(debug_response_assistant_1)"
   ]
  },
  {
   "cell_type": "markdown",
   "id": "f7f909ea",
   "metadata": {
    "id": "f7f909ea"
   },
   "source": [
    "Do you think it'll pass the `intent_confirmation_layer()` test?\n",
    "\n",
    " Let's try it out."
   ]
  },
  {
   "cell_type": "code",
   "execution_count": 30,
   "id": "lJjze8xQf8_S",
   "metadata": {
    "colab": {
     "base_uri": "https://localhost:8080/",
     "height": 36
    },
    "id": "lJjze8xQf8_S",
    "outputId": "9eb66c86-017a-4874-eff3-999adde03e00"
   },
   "outputs": [
    {
     "data": {
      "text/plain": [
       "'No'"
      ]
     },
     "execution_count": 30,
     "metadata": {},
     "output_type": "execute_result"
    }
   ],
   "source": [
    "response = intent_confirmation_layer(debug_response_assistant_1)\n",
    "response.get('result') # Extract the result key from the dictionary"
   ]
  },
  {
   "cell_type": "code",
   "execution_count": 31,
   "id": "BS0_vM3ok-t-",
   "metadata": {
    "colab": {
     "base_uri": "https://localhost:8080/"
    },
    "id": "BS0_vM3ok-t-",
    "outputId": "2df50c6d-b981-4f46-f24b-17b2b81d8ed7"
   },
   "outputs": [
    {
     "name": "stdout",
     "output_type": "stream",
     "text": [
      "\n",
      "Great, thank you for clarifying your requirements.\n",
      "Based on your inputs, here is your dietary and food preference:\n",
      "{'cuisine':'Mexican',\n",
      "    'is free parking':'No',\n",
      "    'is dine-in':'Yes',\n",
      "    'price range':'average'}\n",
      "\n"
     ]
    }
   ],
   "source": [
    "# Example 2 - Let's check confirmation_layer if all the keys are present\n",
    "debug_response_assistant_2 = f\"\"\"\n",
    "Great, thank you for clarifying your requirements.\n",
    "Based on your inputs, here is your dietary and food preference:\n",
    "{{'cuisine':'Mexican',\n",
    "    'is free parking':'No',\n",
    "    'is dine-in':'Yes',\n",
    "    'price range':'average'}}\n",
    "\"\"\"\n",
    "#Note that you are using double curly braces\n",
    "\n",
    "print(debug_response_assistant_2)"
   ]
  },
  {
   "cell_type": "code",
   "execution_count": 32,
   "id": "_9qbx_XLlAY9",
   "metadata": {
    "colab": {
     "base_uri": "https://localhost:8080/"
    },
    "id": "_9qbx_XLlAY9",
    "outputId": "c4848e6a-504f-4f43-beed-bce02328d1fc"
   },
   "outputs": [
    {
     "data": {
      "text/plain": [
       "{'result': 'No', 'reason': 'Missing keys: delivery location'}"
      ]
     },
     "execution_count": 32,
     "metadata": {},
     "output_type": "execute_result"
    }
   ],
   "source": [
    "intent_confirmation_layer(debug_response_assistant_2)\n",
    "# iterate_llm_response(intent_confirmation_layer, debug_response_assistant_2)"
   ]
  },
  {
   "cell_type": "code",
   "execution_count": 33,
   "id": "sFl2vRm0oYet",
   "metadata": {
    "colab": {
     "base_uri": "https://localhost:8080/"
    },
    "id": "sFl2vRm0oYet",
    "outputId": "baa0b508-2782-49c1-b255-15d677999f91"
   },
   "outputs": [
    {
     "name": "stdout",
     "output_type": "stream",
     "text": [
      "\n",
      "Great, thank you for clarifying your requirements.\n",
      "Based on your inputs, here is your dietary and food preference:\n",
      "{  'cuisine':'burger',\n",
      "    'delivery location':'TX',\n",
      "    'is free parking':'No',\n",
      "    'is dine-in':'Yes',\n",
      "    'drive through':'No',\n",
      "    'price range':'average'}\n",
      "\n"
     ]
    }
   ],
   "source": [
    "# Example 3 - Let's check confirmation_layer if all the keys are present\n",
    "debug_response_assistant_3 = f\"\"\"\n",
    "Great, thank you for clarifying your requirements.\n",
    "Based on your inputs, here is your dietary and food preference:\n",
    "{{  'cuisine':'burger',\n",
    "    'delivery location':'TX',\n",
    "    'is free parking':'No',\n",
    "    'is dine-in':'Yes',\n",
    "    'drive through':'No',\n",
    "    'price range':'average'}}\n",
    "\"\"\"\n",
    "#Note that you are using double curly braces\n",
    "\n",
    "print(debug_response_assistant_3)"
   ]
  },
  {
   "cell_type": "code",
   "execution_count": 34,
   "id": "wA17-LWiohEP",
   "metadata": {
    "colab": {
     "base_uri": "https://localhost:8080/"
    },
    "id": "wA17-LWiohEP",
    "outputId": "53838ede-f844-4e0c-c805-cfbeb2bbcf09"
   },
   "outputs": [
    {
     "data": {
      "text/plain": [
       "{'result': 'No',\n",
       " 'reason': \"Incorrect keys provided. Missing 'drive through' key and 'price range' key is incorrect\"}"
      ]
     },
     "execution_count": 34,
     "metadata": {},
     "output_type": "execute_result"
    }
   ],
   "source": [
    "intent_confirmation_layer(debug_response_assistant_3)\n",
    "# iterate_llm_response(intent_confirmation_layer, debug_response_assistant_3)"
   ]
  },
  {
   "cell_type": "markdown",
   "id": "b570ff33",
   "metadata": {
    "id": "b570ff33"
   },
   "source": [
    "Let's now look at the working of `dictionary_present()`."
   ]
  },
  {
   "cell_type": "markdown",
   "id": "8941aef4",
   "metadata": {
    "id": "8941aef4"
   },
   "source": [
    "### `dictionary_present()`:\n",
    "\n",
    "This function checks whether the response from the chatbot is a Python dictionary or not. "
   ]
  },
  {
   "cell_type": "code",
   "execution_count": 35,
   "id": "KjZlut6U2p_e",
   "metadata": {
    "id": "KjZlut6U2p_e"
   },
   "outputs": [],
   "source": [
    "def dictionary_present(response):\n",
    "    delimiter = \"####\"\n",
    "\n",
    "    user_req = {'cuisine':'burger',\n",
    "                'delivery location':'TX',\n",
    "                'is free parking':'No',\n",
    "                'is dine-in':'Yes',\n",
    "                'price range':'average'}\n",
    "\n",
    "    prompt = f\"\"\"You are a python expert. You are provided an input.\n",
    "            You have to check if there is a python dictionary present in the string.\n",
    "            It will have the following format {user_req}.\n",
    "            Your task is to just extract the relevant values from the input and return only the python dictionary in JSON format.\n",
    "            The output should match the format as {user_req}.\n",
    "\n",
    "            {delimiter}\n",
    "            Make sure that the value of budget is also present in the user input. ###\n",
    "            The output should contain the exact keys and values as present in the input.\n",
    "            Ensure the keys and values are in the given format:\n",
    "            {{\n",
    "                'cuisine': any cuisines like mexican, indian, burger etc.,\n",
    "                'delivery location': any state (or it's abbreviation) in US,\n",
    "                'is free parking': 'Yes / No',\n",
    "                'is dine-in':'Yes / No',\n",
    "                'price range': 'average / below average / above average'\n",
    "            }}\n",
    "            \n",
    "            Here are some sample input output pairs for better understanding:\n",
    "            {delimiter}\n",
    "            input 1: - \n",
    "                'cuisine':'burger',\n",
    "                'delivery location':'TX',\n",
    "                'is free parking':'No',\n",
    "                'is dine-in':'Yes',\n",
    "                'price range':'average'\n",
    "                \n",
    "            output 1: {{\n",
    "                'cuisine':'burger',\n",
    "                'delivery location':'TX',\n",
    "                'is free parking':'No',\n",
    "                'is dine-in':'Yes',\n",
    "                'price range':'average'\n",
    "            }}\n",
    "                \n",
    "            input 2:    'cuisine':'Mexican',\n",
    "                        'delivery location':'California',\n",
    "                        'is free parking':'Yes',\n",
    "                        'is dine-in':'No',\n",
    "                        'price range':'below average'\n",
    "                        \n",
    "            output 2: {{'cuisine':'Mexican',\n",
    "                        'delivery location':'California',\n",
    "                        'is free parking':'Yes',\n",
    "                        'is dine-in':'No',\n",
    "                        'price range':'below average'}}\n",
    "\n",
    "            input 3: Here is your user dietray and food preferences 'cuisine':'Italian','delivery location':'Florida','is free parking':'No','is dine-in':'Yes','price range':'above average'\n",
    "            output 3: {{'cuisine':'Italian','delivery location':'Florida','is free parking':'No','is dine-in':'Yes','price range':'above average'}}\n",
    "            {delimiter}\n",
    "            \"\"\"\n",
    "    messages = [{\"role\": \"system\", \"content\":prompt },\n",
    "                {\"role\": \"user\", \"content\":f\"\"\"Here is the user input: {response}\"\"\" }]\n",
    "\n",
    "    confirmation = get_chat_completions(messages, json_format = True)\n",
    "\n",
    "    return confirmation"
   ]
  },
  {
   "cell_type": "markdown",
   "id": "01dd4ca1",
   "metadata": {
    "id": "01dd4ca1"
   },
   "source": [
    "Let's start by passing the `debug_response_assistant`."
   ]
  },
  {
   "cell_type": "code",
   "execution_count": 36,
   "id": "qhG-yoxqZ6g2",
   "metadata": {
    "id": "qhG-yoxqZ6g2"
   },
   "outputs": [],
   "source": [
    "debug_response_assistant_n = \"\"\"\n",
    "{'cuisine':'burger',\n",
    "                'delivery location':'TX',\n",
    "                'is free parking':'No',\n",
    "                'is dine-in':'Yes',\n",
    "                'price range':'average'}\n",
    "\"\"\""
   ]
  },
  {
   "cell_type": "code",
   "execution_count": 37,
   "id": "c9795d76",
   "metadata": {
    "colab": {
     "base_uri": "https://localhost:8080/",
     "height": 128
    },
    "id": "c9795d76",
    "outputId": "b7e52e5c-4900-41d6-a3e0-1267492d51cd"
   },
   "outputs": [
    {
     "data": {
      "text/plain": [
       "{'cuisine': 'burger',\n",
       " 'delivery location': 'TX',\n",
       " 'is free parking': 'No',\n",
       " 'is dine-in': 'Yes',\n",
       " 'price range': 'average'}"
      ]
     },
     "metadata": {},
     "output_type": "display_data"
    }
   ],
   "source": [
    "response_dict_n = dictionary_present(debug_response_assistant_n)\n",
    "display(response_dict_n)"
   ]
  },
  {
   "cell_type": "code",
   "execution_count": 38,
   "id": "9j07XZONGBTN",
   "metadata": {
    "colab": {
     "base_uri": "https://localhost:8080/"
    },
    "id": "9j07XZONGBTN",
    "outputId": "578e7e53-5606-436d-ca01-af8e6b377357"
   },
   "outputs": [
    {
     "data": {
      "text/plain": [
       "dict"
      ]
     },
     "execution_count": 38,
     "metadata": {},
     "output_type": "execute_result"
    }
   ],
   "source": [
    "type(response_dict_n)"
   ]
  },
  {
   "cell_type": "markdown",
   "id": "95fe9455",
   "metadata": {
    "id": "95fe9455"
   },
   "source": [
    "What if you pass something like this where it is not in the form of a dictionary? Or some key or some values are missing? Let's see."
   ]
  },
  {
   "cell_type": "code",
   "execution_count": 39,
   "id": "706a8a28",
   "metadata": {
    "id": "706a8a28"
   },
   "outputs": [],
   "source": [
    "debug_response_assistant_n = f\"\"\"Thank you for the information\n",
    "Based on your preference, I will consider this while recommending suitable restaurants for you.\n",
    "Here is the final recommendation :\n",
    "- 'cuisine': 'burger'\n",
    "- 'delivery location': 'TX',\n",
    "- 'is free parking': 'No',\n",
    "- 'is dine-in': 'Yes',\n",
    "- 'price range': 'average'\n",
    "\n",
    "Please note that these specifications are based on your dietary preference.\n",
    "Let me know if there's anything else I can assist you with!\"\"\""
   ]
  },
  {
   "cell_type": "code",
   "execution_count": 40,
   "id": "79a1d0f5",
   "metadata": {
    "colab": {
     "base_uri": "https://localhost:8080/",
     "height": 128
    },
    "id": "79a1d0f5",
    "outputId": "87368c3b-706b-4df3-febc-20db296cd495",
    "scrolled": true
   },
   "outputs": [
    {
     "data": {
      "text/plain": [
       "{'cuisine': 'burger',\n",
       " 'delivery location': 'TX',\n",
       " 'is free parking': 'No',\n",
       " 'is dine-in': 'Yes',\n",
       " 'price range': 'average'}"
      ]
     },
     "metadata": {},
     "output_type": "display_data"
    }
   ],
   "source": [
    "response_dict_n = dictionary_present(debug_response_assistant_n)\n",
    "display(response_dict_n)"
   ]
  },
  {
   "cell_type": "code",
   "execution_count": 41,
   "id": "5Jwp8q2NGGAg",
   "metadata": {
    "colab": {
     "base_uri": "https://localhost:8080/"
    },
    "id": "5Jwp8q2NGGAg",
    "outputId": "c8563059-3d99-47a7-ffe1-c840ba137ef6"
   },
   "outputs": [
    {
     "data": {
      "text/plain": [
       "dict"
      ]
     },
     "execution_count": 41,
     "metadata": {},
     "output_type": "execute_result"
    }
   ],
   "source": [
    "type(response_dict_n)"
   ]
  },
  {
   "cell_type": "code",
   "execution_count": 42,
   "id": "kzXtY0As84vl",
   "metadata": {
    "colab": {
     "base_uri": "https://localhost:8080/"
    },
    "id": "kzXtY0As84vl",
    "outputId": "15c64776-b88b-4561-8631-a03af1fded29"
   },
   "outputs": [
    {
     "name": "stdout",
     "output_type": "stream",
     "text": [
      "Iteration: 0\n",
      "{'cuisine': 'burger', 'delivery location': 'TX', 'is free parking': 'No', 'is dine-in': 'Yes', 'price range': 'average'}\n",
      "--------------------------------------------------\n",
      "Iteration: 1\n",
      "{'cuisine': 'burger', 'delivery location': 'TX', 'is free parking': 'No', 'is dine-in': 'Yes', 'price range': 'average'}\n",
      "--------------------------------------------------\n",
      "Iteration: 2\n",
      "{'cuisine': 'burger', 'delivery location': 'TX', 'is free parking': 'No', 'is dine-in': 'Yes', 'price range': 'average'}\n",
      "--------------------------------------------------\n",
      "Iteration: 3\n",
      "{'cuisine': 'burger', 'delivery location': 'TX', 'is free parking': 'No', 'is dine-in': 'Yes', 'price range': 'average'}\n",
      "--------------------------------------------------\n",
      "Iteration: 4\n",
      "{'cuisine': 'burger', 'delivery location': 'TX', 'is free parking': 'No', 'is dine-in': 'Yes', 'price range': 'average'}\n",
      "--------------------------------------------------\n",
      "Iteration: 5\n",
      "{'cuisine': 'burger', 'delivery location': 'TX', 'is free parking': 'No', 'is dine-in': 'Yes', 'price range': 'average'}\n",
      "--------------------------------------------------\n",
      "Iteration: 6\n",
      "{'cuisine': 'burger', 'delivery location': 'TX', 'is free parking': 'No', 'is dine-in': 'Yes', 'price range': 'average'}\n",
      "--------------------------------------------------\n",
      "Iteration: 7\n",
      "{'cuisine': 'burger', 'delivery location': 'TX', 'is free parking': 'No', 'is dine-in': 'Yes', 'price range': 'average'}\n",
      "--------------------------------------------------\n",
      "Iteration: 8\n",
      "{'cuisine': 'burger', 'delivery location': 'TX', 'is free parking': 'No', 'is dine-in': 'Yes', 'price range': 'average'}\n",
      "--------------------------------------------------\n",
      "Iteration: 9\n",
      "{'cuisine': 'burger', 'delivery location': 'TX', 'is free parking': 'No', 'is dine-in': 'Yes', 'price range': 'average'}\n",
      "--------------------------------------------------\n"
     ]
    }
   ],
   "source": [
    "# Check for LLM function's consistency\n",
    "iterate_llm_response(dictionary_present, debug_response_assistant_n)"
   ]
  },
  {
   "cell_type": "markdown",
   "id": "4e3135e6",
   "metadata": {
    "id": "4e3135e6"
   },
   "source": [
    "Let's quickly take a look at the code that we have run until now."
   ]
  },
  {
   "cell_type": "code",
   "execution_count": 43,
   "id": "a1190d29",
   "metadata": {
    "colab": {
     "base_uri": "https://localhost:8080/"
    },
    "id": "a1190d29",
    "outputId": "d1fdfa18-4df6-412a-bd63-4ac1cfe8fa8c"
   },
   "outputs": [
    {
     "name": "stdout",
     "output_type": "stream",
     "text": [
      "{'cuisine': 'burger', 'delivery location': 'TX', 'is free parking': 'No', 'is dine-in': 'Yes', 'price range': 'average'}\n"
     ]
    }
   ],
   "source": [
    "debug_conversation = initialize_conversation()\n",
    "debug_user_input = \"Hi I'm Krishna! I'm looking for a good restaurant to have dinner.\"\n",
    "debug_moderation = moderation_check(debug_user_input)\n",
    "debug_conversation.append({\"role\": \"user\", \"content\": debug_user_input})\n",
    "debug_response_assistant = get_chat_completions(debug_conversation)\n",
    "debug_moderation = moderation_check(debug_response_assistant)\n",
    "debug_conversation.append({\"role\": \"assistant\", \"content\": debug_response_assistant})\n",
    "debug_confirmation = intent_confirmation_layer(debug_response_assistant)\n",
    "# After a series of conversation...\n",
    "response_dict_n = dictionary_present(debug_response_assistant_n)\n",
    "print(response_dict_n)"
   ]
  },
  {
   "cell_type": "markdown",
   "id": "c95c036b",
   "metadata": {
    "id": "c95c036b"
   },
   "source": [
    "So, now that you have the user requirement stored in `response_dict_n`. No we will find the services offered by restaurants and map them to a dictionary."
   ]
  },
  {
   "cell_type": "markdown",
   "id": "TWY1b2OXRx4u",
   "metadata": {
    "id": "TWY1b2OXRx4u"
   },
   "source": [
    "## Stage 2"
   ]
  },
  {
   "cell_type": "markdown",
   "id": "af7ced9d",
   "metadata": {
    "id": "af7ced9d"
   },
   "source": [
    "### Implementing the Product Mapping and Information Extraction Layers\n",
    "\n",
    "In this section, we take in the output of the previous layers, i.e. the user's requirement, which is in the format of a Python dictionary.\n",
    "<br>\n",
    "Next we will provide the top restaurant recommendations based on user's requirement.\n",
    "\n",
    "This stage consists of the following helper functions that will implement the information extraction and product matching layers."
   ]
  },
  {
   "cell_type": "code",
   "execution_count": 44,
   "id": "240d34cc",
   "metadata": {
    "id": "240d34cc"
   },
   "outputs": [],
   "source": [
    "def product_map_layer(dietary_description):\n",
    "    delimiter = \"#####\"\n",
    "\n",
    "    dietary_spec = {\n",
    "        'cuisine':'(Type of Cuisine or Food)',\n",
    "        'delivery location':'(any state or its abbreviation in US)',\n",
    "        'is free parking':'(Yes or No)',\n",
    "        'is dine-in':'(Yes or No)',\n",
    "        'price range':'(average / below average / above average)'\n",
    "    }\n",
    "\n",
    "    prompt=f\"\"\"\n",
    "    You are a User Dietary Preference Classifier whose objective is to extract key features and classify them based on user's food and dietary preferences.\n",
    "    To analyze each dietary preference, perform the following steps:\n",
    "    Step 1: Extract the User Dietary or Food Preference  features from the description {dietary_description}\n",
    "    Step 2: Store the extracted features in {dietary_spec} \\\n",
    "    Step 3: Classify each of the items in {dietary_spec} into values based on the following rules: \\\n",
    "    {delimiter}\n",
    "    \n",
    "    cuisine:\n",
    "    - Any type of Cuisine or Food \\n\n",
    "\n",
    "    delivery location:\n",
    "    - Any state or its abbreviation in US \\n\n",
    "    \n",
    "    is free parking:\n",
    "    - Yes: <<< if 'is free parking' value mentioned is 'lot', 'private','free','garage', 'yes', 'true' etc>>> , \\n\n",
    "    - No: <<< if 'is free parking' value mentioned is 'paid', 'street','self', 'no', 'false' etc >>> , \\n\n",
    "\n",
    "    is dine-in:\n",
    "    - Yes: <<< if 'is dine-in' value mentioned is 'dine-in', 'dining in','reserve a seat', 'yes', 'true' etc>>> , \\n\n",
    "    - No: <<< if 'is dine-in' value mentioned is 'take away', 'delivery', 'take out','no', 'false'  etc >>> , \\n\n",
    "    \n",
    "    price range:\n",
    "    - average: <<< if value is numeric and is greater than 10 dollar and less than 20 dollar or if value is non numeric and mentioned as average or normal>>> , \\n\n",
    "    - below average: <<< if value is numeric and is less than 10 dollar or if value is non numeric and mentioned as below average >>> , \\n\n",
    "    - above average: <<< if value is numeric and is greater than 20 dollar or if value is non numeric and mentioned as above average or premium or expensive or luxury >>> , \\n\n",
    "    \n",
    "    {delimiter}\n",
    "\n",
    "    {delimiter}\n",
    "    Here is input output pair for few-shot learning:\n",
    "    \n",
    "    input 1: \"{{ 'categories': 'Hamburgers and Hot Dogs,American Restaurants,Fast Food Restaurants,Restaurants',\n",
    "                'name': \"Nathan's Famous Hot Dogs\",\n",
    "                'state': 'New York',\n",
    "                'feature_dict': {{'open-hours': 'do you know the hours for this business?',\n",
    "                'extra-phones': 'phone:(914) 497-5421fax:(914) 682-2784',\n",
    "                'location-description': 'county ctr',\n",
    "                'aka': 'westchester county center',\n",
    "                'weblinks': 'http://www.nathansfamous.com',\n",
    "                'categories': 'hamburgers & hot dogs, american restaurants, fast food restaurants, restaurants ',\n",
    "                'cuisines': 'burgers, american, hot dogs, fast food'}},\n",
    "                'price range': 'average'}}\" \n",
    "    output 1: {{\n",
    "        'cuisine': 'Hamburgers and Hot Dogs,American Restaurants,Fast Food Restaurants,Restaurants',\n",
    "        'delivery location': 'New York',\n",
    "        'is free parking':'Yes',\n",
    "        'is dine-in':'Yes',\n",
    "        'price range':'average'\n",
    "    }}\n",
    "    \n",
    "    input 2: \"{{  'categories': 'Caterers,Seafood restaurants,Steak and chop restaurants,Crabs and crab houses,Restaurant Delivery Service,American restaurants,Seafood,Karaoke,Fast Food Restaurants,Take Out Restaurants,Family Style Restaurants,Restaurants,Restaurant,Steak Houses,Night Clubs,Bars',\n",
    "                 'name': \"Kretch's Restaurant\",\n",
    "                 'state': 'Florida',\n",
    "                 'feature_dict': {{}},\n",
    "                 'price range': 'average'}}\"\n",
    "    output 2: {{'cuisine': 'Caterers,Seafood restaurants,Steak and chop restaurants,Crabs and crab houses,Restaurant Delivery Service,American restaurants,Seafood,Karaoke,Fast Food Restaurants,Take Out Restaurants,Family Style Restaurants,Restaurants,Restaurant,Steak Houses,Night Clubs,Bars',\n",
    "                'delivery location': 'Florida',\n",
    "                'is free parking':'Yes',\n",
    "                'is dine-in':'Yes',\n",
    "                'price range':'average'}}\n",
    "    \n",
    "    input 3: \"{{  'categories': 'Mexican Restaurant,Restaurant,Mexican Restaurants,Mexican,Breakfast,Vegetarian,Fast Food Restaurant,Fast Food Restaurants,Fast Food,Cafes,Restaurants',\n",
    "                 'name': 'Taco Bell',\n",
    "                 'state': 'California',\n",
    "                 'feature_dict':{{'open-hours': 'regular hoursmon - thu:9:00 am - 1:00 amfri - sat:9:00 am - 2:00 amsun:9:00 am - 1:00 am',\n",
    "                  'brands': 'airheads, brisk, cinnabon, dr pepper, lipton, mtn dew, mountain dew, pepsi, sierra mist, starburst',\n",
    "                  'payment': 'master card, visa, amex, cash, discover',\n",
    "                  'neighborhoods': 'north hills east, north valley',\n",
    "                  'weblinks': 'https://locations.tacobell.com/ca/van-nuys/8256-orion-ave.htmlhttps://www.tacobell.com/foodhttps://www.tacobell.com/food',\n",
    "                  'categories': 'fast food restaurants, mexican restaurants, restaurants ',\n",
    "                  'wi-fi': 'no',\n",
    "                  'bike parking': 'yes',\n",
    "                  'attire': 'casual',\n",
    "                  'drive through': 'yes',\n",
    "                  'good for groups': 'yes',\n",
    "                  'good for kids': 'yes',\n",
    "                  'take out': 'yes',\n",
    "                  'cuisines': 'mexican, fast food, latin american, vegetarian, omelets',\n",
    "                  'price range ': 'below average',\n",
    "                  'outdoor seating': 'no',\n",
    "                  'takes reservations': 'no'}},\n",
    "                 'price range': 'below average'}}\"\n",
    "                 \n",
    "    output 3: {{'cuisine': 'Mexican Restaurant,Restaurant,Mexican Restaurants,Mexican,Breakfast,Vegetarian,Fast Food Restaurant,Fast Food Restaurants,Fast Food,Cafes,Restaurants',\n",
    "                'delivery location': 'California',\n",
    "                'is free parking':'yes',\n",
    "                'is dine-in':'No',\n",
    "                'price range':'below average'}}\n",
    "    \n",
    "    input 4: \"{{  'categories': 'Italian Restaurant,Caterers,Italian,Hot dog restaurants,Hamburger restaurants,Take Out Restaurants,Fast Food Restaurants,Restaurants,Italian Restaurants,Pizza,American Restaurants,Mediterranean Restaurants,Hamburgers and Hot Dogs,Sandwich Shops',\n",
    "                 'name': \"Tonelli's Takeout\",\n",
    "                 'state': 'Pennsylvania',\n",
    "                 'feature_dict': {{'open-hours': 'regular hoursmon - thu:11:00 am - 9:00 pmfri - sat:11:00 am - 10:00 pmsun:12:00 pm - 12:00 am',\n",
    "                  'extra-phones': 'phone:(610) 825-1188fax:(610) 825-1188',\n",
    "                  'payment': 'amex, discover, master card, visa, all major credit cards',\n",
    "                  'weblinks': 'https://pizzamansprinter.com/tonellistakeout.pdf',\n",
    "                  'categories': 'pizza, caterers, italian restaurants, restaurants, sandwich shops ',\n",
    "                  'parking': 'lot, private',\n",
    "                  'wi-fi': 'no',\n",
    "                  'attire': 'casual',\n",
    "                  'cuisines': 'caterers, sandwiches, italian, european, continental, pizza',\n",
    "                  'alcohol': 'no',\n",
    "                  'takes reservations': 'no',\n",
    "                  'outdoor seating': 'no',\n",
    "                  'price range ': 'average'}},\n",
    "                 'price range': 'average'}}\"\n",
    "    output 4: {{'cuisine': 'Italian Restaurant,Caterers,Italian,Hot dog restaurants,Hamburger restaurants,Take Out Restaurants,Fast Food Restaurants,Restaurants,Italian Restaurants,Pizza,American Restaurants,Mediterranean Restaurants,Hamburgers and Hot Dogs,Sandwich Shops',\n",
    "                'delivery location': 'Pennsylvania',\n",
    "                'is free parking':'Yes',\n",
    "                'is dine-in':'Yes',\n",
    "                'price range':'average'}}\n",
    "    \n",
    "    \n",
    "    {delimiter}\n",
    "    \"\"\"\n",
    "    input = f\"\"\"Follow the above instructions step-by-step and output the dictionary in JSON format {dietary_spec} for the following dietary preference {dietary_description}.\"\"\"\n",
    "    #see that we are using the Completion endpoint and not the Chatcompletion endpoint\n",
    "    messages=[{\"role\": \"system\", \"content\":prompt },{\"role\": \"user\",\"content\":input}]\n",
    "\n",
    "    response = get_chat_completions(messages, json_format = True)\n",
    "\n",
    "    return response"
   ]
  },
  {
   "cell_type": "code",
   "execution_count": 45,
   "id": "2a1c739a",
   "metadata": {},
   "outputs": [],
   "source": [
    "def dietary_preference_mapping(row_data):\n",
    "    output = {}\n",
    "    cuisines = []\n",
    "    delivery_location = \"\"\n",
    "    is_free_parking = \"no\"\n",
    "    is_dine_in = \"yes\"\n",
    "    drive_thru = \"no\"\n",
    "    price_range = \"average\"\n",
    "    \n",
    "    if 'categories' in row_data:\n",
    "        cuisines = row_data['categories'].split(',')\n",
    "    if 'feature_dict' in row_data:\n",
    "        feature_dict = row_data['feature_dict']\n",
    "        if 'categories' in feature_dict:\n",
    "            cuisines.extend(feature_dict['categories'].split(','))\n",
    "            \n",
    "        if 'parking' in feature_dict:\n",
    "            is_free_parking = 'yes' if any(item in ['lot', 'private','free','garage', 'yes', 'true'] for item in feature_dict['parking'].split(',')) else 'no'\n",
    "        elif 'bike parking' in feature_dict:\n",
    "            is_free_parking = feature_dict['bike parking']\n",
    "            \n",
    "    \n",
    "    if 'state' in row_data:\n",
    "        delivery_location = row_data['state']\n",
    "\n",
    "    if 'price range' in row_data:\n",
    "        price_range = row_data['price range']\n",
    "        \n",
    "    cuisines = list(set([item.lower().strip() for item in cuisines]))\n",
    "    output[\"cuisine\"] = \",\".join(cuisines)\n",
    "    output[\"delivery location\"] = delivery_location\n",
    "    output[\"is free parking\"] = is_free_parking\n",
    "    output[\"is dine-in\"] = is_dine_in\n",
    "    output[\"price range\"] = price_range\n",
    "    return output\n",
    "\n",
    "\n",
    "restaurant_data['dietary_preference'] = restaurant_data.apply(lambda x: dietary_preference_mapping(x[['categories','name','state','feature_dict','price range']].to_dict()),axis=1)"
   ]
  },
  {
   "cell_type": "code",
   "execution_count": 46,
   "id": "JhrRxWNEC5Ls",
   "metadata": {
    "id": "JhrRxWNEC5Ls"
   },
   "outputs": [
    {
     "data": {
      "text/plain": [
       "categories      Mexican Restaurant,Restaurant,Carry-out food,T...\n",
       "name                                                     Del Taco\n",
       "state                                                  California\n",
       "feature_dict                                                   {}\n",
       "price range                                               average\n",
       "Name: 41, dtype: object"
      ]
     },
     "execution_count": 46,
     "metadata": {},
     "output_type": "execute_result"
    }
   ],
   "source": [
    "user_req_desc = (restaurant_data[['categories','name','state','feature_dict','price range']].iloc[41])\n",
    "user_req_desc"
   ]
  },
  {
   "cell_type": "code",
   "execution_count": 47,
   "id": "3JiOft8JDDgv",
   "metadata": {
    "colab": {
     "base_uri": "https://localhost:8080/",
     "height": 109
    },
    "id": "3JiOft8JDDgv",
    "outputId": "c022633d-1061-423d-fb0c-d162a0b786cb"
   },
   "outputs": [
    {
     "data": {
      "text/plain": [
       "{'cuisine': 'restaurant,carry-out food,tex-mex restaurants,mexican restaurant,southwestern restaurants,mexican restaurants,restaurants,fast food restaurant,american restaurants',\n",
       " 'delivery location': 'California',\n",
       " 'is free parking': 'no',\n",
       " 'is dine-in': 'yes',\n",
       " 'price range': 'average'}"
      ]
     },
     "metadata": {},
     "output_type": "display_data"
    }
   ],
   "source": [
    "display(dietary_preference_mapping(user_req_desc))"
   ]
  },
  {
   "cell_type": "code",
   "execution_count": 48,
   "id": "u7O5Et_aSW0_",
   "metadata": {
    "colab": {
     "base_uri": "https://localhost:8080/"
    },
    "id": "u7O5Et_aSW0_",
    "outputId": "1ba088fb-6a83-49a1-aa62-e52d13a00c79"
   },
   "outputs": [
    {
     "name": "stdout",
     "output_type": "stream",
     "text": [
      "<class 'dict'>\n"
     ]
    }
   ],
   "source": [
    "# # Data type of the output response\n",
    "print(type(dietary_preference_mapping(user_req_desc)))"
   ]
  },
  {
   "cell_type": "markdown",
   "id": "3141b150",
   "metadata": {
    "id": "3141b150"
   },
   "source": [
    "### `compare_with_user_preferences()`:\n",
    "\n",
    "This function compares the user's dietary preferences with the restaurants and come back with the top  recommendations. It will perform the following steps:\n",
    "    - It will take the user requirements dictionary as input\n",
    "    - Filter the restaurants based on their dietary preferences.\n",
    "    - Calculate a score for each restaurant based on how well it matches the user's requirements.\n",
    "    - Sort the restaurants based on their scores in descending order.\n",
    "    - Return the top restaurants as a JSON-formatted string."
   ]
  },
  {
   "cell_type": "code",
   "execution_count": 49,
   "id": "ZqKvUdFkcPXF",
   "metadata": {
    "id": "ZqKvUdFkcPXF"
   },
   "outputs": [],
   "source": [
    "\n",
    "def compare_with_user_preferences(df,response_dict_n):\n",
    "    user_requirements = response_dict_n\n",
    "    location = user_requirements['delivery location']\n",
    "    # Extracting user requirements from the input string (assuming it's a dictionary)\n",
    "    # Since the function parameter already seems to be a string, we'll use it directly instead of extracting from a dictionary\n",
    "\n",
    "    filtered_df = df.loc[(df[\"state\"]==location) | (df[\"province\"]==location)].reset_index(drop=True)\n",
    "    # # # Creating a new column 'score' in the filtered DataFrame and initializing it to 0\n",
    "    filtered_df['score'] = 0\n",
    "    # # # Iterating over each restaurants in the filtered DataFrame to calculate scores based on user requirements\n",
    "    for index, row in filtered_df.iterrows():\n",
    "        user_product_match = row['dietary_preference']\n",
    "        score = 0\n",
    "        # Comparing user dietary preferences with restaurants and update scores\n",
    "        for key, user_value in user_requirements.items():\n",
    "            if key in (['is free parking','is dine-in','drive through']):\n",
    "                mappings = {'no': 0, 'yes': 1}\n",
    "                user_value = user_requirements.get(key, None)\n",
    "                rest_value = user_product_match.get(key, None)\n",
    "                rest_mapping = mappings.get(rest_value, -1)\n",
    "                user_mapping = mappings.get(user_value, -1)\n",
    "                if rest_mapping >= user_mapping:\n",
    "                    score += 1\n",
    "            elif key == 'price range':\n",
    "                mappings = {'below average': 0, 'average': 1, 'above average':2}\n",
    "                user_value = user_requirements.get(key, None)\n",
    "                rest_value = user_product_match.get(key, None)\n",
    "                rest_mapping = mappings.get(rest_value, -1)\n",
    "                user_mapping = mappings.get(user_value, -1)\n",
    "                if rest_mapping >= user_mapping:\n",
    "                    score += 1\n",
    "            else:\n",
    "                rest_data = user_product_match.get(key, None)\n",
    "                if rest_data and any(item.strip() in rest_data.split(',') for item in user_value.split(',')):\n",
    "                    score += 1  # Incrementing score if restaurant value meets or exceeds user value\n",
    "\n",
    "            filtered_df.at[index, 'score'] = score \n",
    "\n",
    "\n",
    "    # Sorting restaurant by score in descending order \n",
    "    top_items = filtered_df.sort_values('score', ascending=False)[['categories','name','state','feature_dict','price range','score']].head(5)\n",
    "    top_items_json = top_items.to_json(orient='records')  # Converting the top restaurant DataFrame to JSON format\n",
    "\n",
    "    # top_restaurants\n",
    "    return top_items_json"
   ]
  },
  {
   "cell_type": "markdown",
   "id": "e1faebdc",
   "metadata": {
    "id": "e1faebdc"
   },
   "source": [
    "Now that you have the `compare_with_user_preferences()` function ready, let's pass the `response_dict_n` to the function to get top restaurant recommendations."
   ]
  },
  {
   "cell_type": "code",
   "execution_count": 50,
   "id": "566b161e",
   "metadata": {},
   "outputs": [
    {
     "data": {
      "text/plain": [
       "{'cuisine': 'burger',\n",
       " 'delivery location': 'TX',\n",
       " 'is free parking': 'No',\n",
       " 'is dine-in': 'Yes',\n",
       " 'price range': 'average'}"
      ]
     },
     "execution_count": 50,
     "metadata": {},
     "output_type": "execute_result"
    }
   ],
   "source": [
    "response_dict_n"
   ]
  },
  {
   "cell_type": "code",
   "execution_count": 51,
   "id": "rsTOq6lrb53Y",
   "metadata": {
    "colab": {
     "base_uri": "https://localhost:8080/",
     "height": 165
    },
    "id": "rsTOq6lrb53Y",
    "outputId": "d2216ca5-b33d-4397-a5ea-8256daed98ab"
   },
   "outputs": [
    {
     "data": {
      "text/plain": [
       "{'cuisine': 'burger',\n",
       " 'delivery location': 'TX',\n",
       " 'is free parking': 'No',\n",
       " 'is dine-in': 'Yes',\n",
       " 'price range': 'average'}"
      ]
     },
     "metadata": {},
     "output_type": "display_data"
    },
    {
     "data": {
      "text/plain": [
       "'\\n'"
      ]
     },
     "metadata": {},
     "output_type": "display_data"
    },
    {
     "data": {
      "text/plain": [
       "dict"
      ]
     },
     "metadata": {},
     "output_type": "display_data"
    }
   ],
   "source": [
    "display(response_dict_n, '\\n',type(response_dict_n))"
   ]
  },
  {
   "cell_type": "code",
   "execution_count": 52,
   "id": "oJrlVQZo8h7t",
   "metadata": {
    "colab": {
     "base_uri": "https://localhost:8080/"
    },
    "id": "oJrlVQZo8h7t",
    "outputId": "f5f67f59-421b-484c-e307-c03fb2bf38a1"
   },
   "outputs": [
    {
     "data": {
      "text/plain": [
       "{'cuisine': 'burger',\n",
       " 'delivery location': 'TX',\n",
       " 'is free parking': 'No',\n",
       " 'is dine-in': 'Yes',\n",
       " 'price range': 'average'}"
      ]
     },
     "execution_count": 52,
     "metadata": {},
     "output_type": "execute_result"
    }
   ],
   "source": [
    "dictionary_present(response_dict_n)"
   ]
  },
  {
   "cell_type": "code",
   "execution_count": 53,
   "id": "b44c9f45",
   "metadata": {},
   "outputs": [],
   "source": [
    "# restaurant_data['dietary_preference'] = restaurant_data.apply(lambda x: product_map_layer(str(x[['categories','name','state','feature_dict','price range']].to_dict())),axis=1)"
   ]
  },
  {
   "cell_type": "code",
   "execution_count": 54,
   "id": "00dff605",
   "metadata": {},
   "outputs": [],
   "source": [
    "top_restaurants = compare_with_user_preferences(restaurant_data,response_dict_n)"
   ]
  },
  {
   "cell_type": "code",
   "execution_count": 55,
   "id": "xw43wm_gRI7S",
   "metadata": {
    "colab": {
     "base_uri": "https://localhost:8080/"
    },
    "id": "xw43wm_gRI7S",
    "outputId": "13a1e4cf-0e50-4b8a-fe69-3ed29747d8ea"
   },
   "outputs": [
    {
     "data": {
      "text/plain": [
       "[{'categories': 'Carry-out food,Delicatessens,Take Out Restaurants,Fast Food Restaurants,Sandwiches,Restaurants,Sandwich Shops',\n",
       "  'name': 'SUBWAY',\n",
       "  'state': 'Texas',\n",
       "  'feature_dict': {},\n",
       "  'price range': 'average',\n",
       "  'score': 3},\n",
       " {'categories': 'Fried Chicken Joint,Fast Food Restaurants,Take Out Restaurants,Chicken Restaurants,Catering,Restaurants',\n",
       "  'name': 'Kfc',\n",
       "  'state': 'Texas',\n",
       "  'feature_dict': {},\n",
       "  'price range': 'average',\n",
       "  'score': 3},\n",
       " {'categories': 'Carry-out food,Delicatessens,Take Out Restaurants,Fast Food Restaurants,Sandwiches,Restaurants,Sandwich Shops',\n",
       "  'name': 'SUBWAY',\n",
       "  'state': 'Texas',\n",
       "  'feature_dict': {},\n",
       "  'price range': 'average',\n",
       "  'score': 3},\n",
       " {'categories': 'Delis And Delicatessens,Restaurant,Take Out Restaurants,Fast Food Restaurants,Restaurants,Sandwich Shops',\n",
       "  'name': 'Subway',\n",
       "  'state': 'Texas',\n",
       "  'feature_dict': {'open-hours': 'regular hoursmon - sun:9:00 am - 10:00 pm',\n",
       "   'payment': 'master card, amex, visa, discover, company card, debit, diners club, all major credit cards, apple pay',\n",
       "   'weblinks': 'https://www.subway.comhttps://subway.com/https://subway.com/',\n",
       "   'categories': 'fast food restaurants, restaurants, sandwich shops, take out restaurants ',\n",
       "   'good for groups': 'no',\n",
       "   'take out': 'yes',\n",
       "   'cuisines': 'sandwiches, fast food'},\n",
       "  'price range': 'average',\n",
       "  'score': 3},\n",
       " {'categories': 'Caterers,Delicatessens,Fast Food Restaurants,Restaurants,Sandwich Shops',\n",
       "  'name': \"McAlister's Deli\",\n",
       "  'state': 'Texas',\n",
       "  'feature_dict': {'open-hours': 'regular hoursmon - sun:10:00 am - 9:00 pm',\n",
       "   'payment': 'master card, visa, amex, discover',\n",
       "   'neighborhoods': 'regent center',\n",
       "   'weblinks': 'https://locations.mcalistersdeli.com/tx/irving/3501-regent-blvdhttps://www.mcalistersdeli.com/menu?rid=87697&startorder=truemenu',\n",
       "   'categories': 'delicatessens, caterers, fast food restaurants, restaurants, sandwich shops ',\n",
       "   'cuisines': 'sandwiches',\n",
       "   'wi-fi': 'no',\n",
       "   'parking': 'lot, private',\n",
       "   'bike parking': 'no',\n",
       "   'attire': 'casual',\n",
       "   'takes reservations': 'no',\n",
       "   'outdoor seating': 'no'},\n",
       "  'price range': 'average',\n",
       "  'score': 3}]"
      ]
     },
     "execution_count": 55,
     "metadata": {},
     "output_type": "execute_result"
    }
   ],
   "source": [
    "# Get output in JSON Format\n",
    "top_restaurants_json = json.loads(top_restaurants)\n",
    "# type(top_restaurants_json)\n",
    "top_restaurants_json"
   ]
  },
  {
   "cell_type": "code",
   "execution_count": 56,
   "id": "a0d6dd68",
   "metadata": {
    "id": "a0d6dd68"
   },
   "outputs": [],
   "source": [
    "def recommendation_validation(recommendation):\n",
    "    data = json.loads(recommendation)\n",
    "    data1 = []\n",
    "    for i in range(len(data)):\n",
    "        if data[i]['score'] > 2:\n",
    "            data1.append(data[i])\n",
    "\n",
    "    return data1"
   ]
  },
  {
   "cell_type": "code",
   "execution_count": 57,
   "id": "c22c6b76",
   "metadata": {
    "colab": {
     "base_uri": "https://localhost:8080/",
     "height": 1000
    },
    "id": "c22c6b76",
    "outputId": "cbfd4273-804c-4704-dc8b-0e55eaef21e4",
    "scrolled": true
   },
   "outputs": [
    {
     "data": {
      "text/plain": [
       "[{'categories': 'Carry-out food,Delicatessens,Take Out Restaurants,Fast Food Restaurants,Sandwiches,Restaurants,Sandwich Shops',\n",
       "  'name': 'SUBWAY',\n",
       "  'state': 'Texas',\n",
       "  'feature_dict': {},\n",
       "  'price range': 'average',\n",
       "  'score': 3},\n",
       " {'categories': 'Fried Chicken Joint,Fast Food Restaurants,Take Out Restaurants,Chicken Restaurants,Catering,Restaurants',\n",
       "  'name': 'Kfc',\n",
       "  'state': 'Texas',\n",
       "  'feature_dict': {},\n",
       "  'price range': 'average',\n",
       "  'score': 3},\n",
       " {'categories': 'Carry-out food,Delicatessens,Take Out Restaurants,Fast Food Restaurants,Sandwiches,Restaurants,Sandwich Shops',\n",
       "  'name': 'SUBWAY',\n",
       "  'state': 'Texas',\n",
       "  'feature_dict': {},\n",
       "  'price range': 'average',\n",
       "  'score': 3},\n",
       " {'categories': 'Delis And Delicatessens,Restaurant,Take Out Restaurants,Fast Food Restaurants,Restaurants,Sandwich Shops',\n",
       "  'name': 'Subway',\n",
       "  'state': 'Texas',\n",
       "  'feature_dict': {'open-hours': 'regular hoursmon - sun:9:00 am - 10:00 pm',\n",
       "   'payment': 'master card, amex, visa, discover, company card, debit, diners club, all major credit cards, apple pay',\n",
       "   'weblinks': 'https://www.subway.comhttps://subway.com/https://subway.com/',\n",
       "   'categories': 'fast food restaurants, restaurants, sandwich shops, take out restaurants ',\n",
       "   'good for groups': 'no',\n",
       "   'take out': 'yes',\n",
       "   'cuisines': 'sandwiches, fast food'},\n",
       "  'price range': 'average',\n",
       "  'score': 3},\n",
       " {'categories': 'Caterers,Delicatessens,Fast Food Restaurants,Restaurants,Sandwich Shops',\n",
       "  'name': \"McAlister's Deli\",\n",
       "  'state': 'Texas',\n",
       "  'feature_dict': {'open-hours': 'regular hoursmon - sun:10:00 am - 9:00 pm',\n",
       "   'payment': 'master card, visa, amex, discover',\n",
       "   'neighborhoods': 'regent center',\n",
       "   'weblinks': 'https://locations.mcalistersdeli.com/tx/irving/3501-regent-blvdhttps://www.mcalistersdeli.com/menu?rid=87697&startorder=truemenu',\n",
       "   'categories': 'delicatessens, caterers, fast food restaurants, restaurants, sandwich shops ',\n",
       "   'cuisines': 'sandwiches',\n",
       "   'wi-fi': 'no',\n",
       "   'parking': 'lot, private',\n",
       "   'bike parking': 'no',\n",
       "   'attire': 'casual',\n",
       "   'takes reservations': 'no',\n",
       "   'outdoor seating': 'no'},\n",
       "  'price range': 'average',\n",
       "  'score': 3}]"
      ]
     },
     "metadata": {},
     "output_type": "display_data"
    },
    {
     "data": {
      "text/plain": [
       "'\\n'"
      ]
     },
     "metadata": {},
     "output_type": "display_data"
    }
   ],
   "source": [
    "validated_data = recommendation_validation(top_restaurants)\n",
    "display(validated_data,'\\n')"
   ]
  },
  {
   "cell_type": "markdown",
   "id": "f1f97d7a",
   "metadata": {
    "id": "f1f97d7a"
   },
   "source": [
    "Now that you the top restaurants extracted, let's pass it to the recommendation layer that'll send it to the user and the user can ask questions around it."
   ]
  },
  {
   "cell_type": "markdown",
   "id": "kRBzXIcrea7Y",
   "metadata": {
    "id": "kRBzXIcrea7Y"
   },
   "source": [
    "## Stage 3"
   ]
  },
  {
   "cell_type": "markdown",
   "id": "f0e2eb10",
   "metadata": {
    "id": "f0e2eb10"
   },
   "source": [
    "### Product Recommendation Layer\n",
    "\n",
    "Finally, we come to the product recommendation layer. It takes the output from the `compare_with_user_preferences` function in the previous layer and provides the recommendations to the user. It has the following steps.\n",
    "1. Initialize the conversation for recommendation.\n",
    "2. Generate the recommendations and display in a presentable format.\n",
    "3. Ask questions basis the recommendations.\n",
    "\n"
   ]
  },
  {
   "cell_type": "code",
   "execution_count": 58,
   "id": "6270ac40",
   "metadata": {
    "id": "6270ac40"
   },
   "outputs": [],
   "source": [
    "def initialize_conv_reco(recommendations):\n",
    "    system_message = f\"\"\"\n",
    "    You are an excellent food blogger or food critic expert and your goal is to recommend the best restaurant for a user in \\\n",
    "    'New York', 'Florida', 'California', 'Pennsylvania', 'Texas' or 'Washington'. \\\n",
    "\n",
    "    You should keep the user profile in mind while answering the questions.\\\n",
    "\n",
    "    Start with a brief summary of each restaurant, the food they are offering in the following format:\n",
    "    1. <Restaurant Name> : <location>, <Cuisines offered by them>\n",
    "    2. <Restaurant Name> : <location>, <Cuisines offered by them>\n",
    "\n",
    "    \"\"\"\n",
    "    user_message = f\"\"\" These are the recommendations: {recommendations}\"\"\"\n",
    "    conversation = [{\"role\": \"system\", \"content\": system_message },\n",
    "                    {\"role\":\"user\",\"content\":user_message}]\n",
    "    # conversation_final = conversation[0]['content']\n",
    "    return conversation"
   ]
  },
  {
   "cell_type": "markdown",
   "id": "e0a66294",
   "metadata": {
    "id": "e0a66294"
   },
   "source": [
    "Let's initialize the conversation for recommendation."
   ]
  },
  {
   "cell_type": "code",
   "execution_count": 59,
   "id": "bd95e8c5",
   "metadata": {
    "colab": {
     "base_uri": "https://localhost:8080/"
    },
    "id": "bd95e8c5",
    "outputId": "e5314399-65c0-4772-d683-ce496e410ff8"
   },
   "outputs": [
    {
     "data": {
      "text/plain": [
       "[{'role': 'system',\n",
       "  'content': \"\\n    You are an excellent food blogger or food critic expert and your goal is to recommend the best restaurant for a user in     'New York', 'Florida', 'California', 'Pennsylvania', 'Texas' or 'Washington'. \\n    You should keep the user profile in mind while answering the questions.\\n    Start with a brief summary of each restaurant, the food they are offering in the following format:\\n    1. <Restaurant Name> : <location>, <Cuisines offered by them>\\n    2. <Restaurant Name> : <location>, <Cuisines offered by them>\\n\\n    \"},\n",
       " {'role': 'user',\n",
       "  'content': ' These are the recommendations: [{\"categories\":\"Carry-out food,Delicatessens,Take Out Restaurants,Fast Food Restaurants,Sandwiches,Restaurants,Sandwich Shops\",\"name\":\"SUBWAY\",\"state\":\"Texas\",\"feature_dict\":{},\"price range\":\"average\",\"score\":3},{\"categories\":\"Fried Chicken Joint,Fast Food Restaurants,Take Out Restaurants,Chicken Restaurants,Catering,Restaurants\",\"name\":\"Kfc\",\"state\":\"Texas\",\"feature_dict\":{},\"price range\":\"average\",\"score\":3},{\"categories\":\"Carry-out food,Delicatessens,Take Out Restaurants,Fast Food Restaurants,Sandwiches,Restaurants,Sandwich Shops\",\"name\":\"SUBWAY\",\"state\":\"Texas\",\"feature_dict\":{},\"price range\":\"average\",\"score\":3},{\"categories\":\"Delis And Delicatessens,Restaurant,Take Out Restaurants,Fast Food Restaurants,Restaurants,Sandwich Shops\",\"name\":\"Subway\",\"state\":\"Texas\",\"feature_dict\":{\"open-hours\":\"regular hoursmon - sun:9:00 am - 10:00 pm\",\"payment\":\"master card, amex, visa, discover, company card, debit, diners club, all major credit cards, apple pay\",\"weblinks\":\"https:\\\\/\\\\/www.subway.comhttps:\\\\/\\\\/subway.com\\\\/https:\\\\/\\\\/subway.com\\\\/\",\"categories\":\"fast food restaurants, restaurants, sandwich shops, take out restaurants \",\"good for groups\":\"no\",\"take out\":\"yes\",\"cuisines\":\"sandwiches, fast food\"},\"price range\":\"average\",\"score\":3},{\"categories\":\"Caterers,Delicatessens,Fast Food Restaurants,Restaurants,Sandwich Shops\",\"name\":\"McAlister\\'s Deli\",\"state\":\"Texas\",\"feature_dict\":{\"open-hours\":\"regular hoursmon - sun:10:00 am - 9:00 pm\",\"payment\":\"master card, visa, amex, discover\",\"neighborhoods\":\"regent center\",\"weblinks\":\"https:\\\\/\\\\/locations.mcalistersdeli.com\\\\/tx\\\\/irving\\\\/3501-regent-blvdhttps:\\\\/\\\\/www.mcalistersdeli.com\\\\/menu?rid=87697&startorder=truemenu\",\"categories\":\"delicatessens, caterers, fast food restaurants, restaurants, sandwich shops \",\"cuisines\":\"sandwiches\",\"wi-fi\":\"no\",\"parking\":\"lot, private\",\"bike parking\":\"no\",\"attire\":\"casual\",\"takes reservations\":\"no\",\"outdoor seating\":\"no\"},\"price range\":\"average\",\"score\":3}]'}]"
      ]
     },
     "execution_count": 59,
     "metadata": {},
     "output_type": "execute_result"
    }
   ],
   "source": [
    "debug_conversation_reco = initialize_conv_reco(top_restaurants)\n",
    "debug_conversation_reco"
   ]
  },
  {
   "cell_type": "markdown",
   "id": "3789430c",
   "metadata": {
    "id": "3789430c"
   },
   "source": [
    "Let's see what the assistant responds with the new initialization."
   ]
  },
  {
   "cell_type": "code",
   "execution_count": 60,
   "id": "03d11a08",
   "metadata": {
    "colab": {
     "base_uri": "https://localhost:8080/"
    },
    "id": "03d11a08",
    "outputId": "a538206f-3ecd-4ad4-ee50-a8d6d590db44"
   },
   "outputs": [
    {
     "name": "stdout",
     "output_type": "stream",
     "text": [
      "1. SUBWAY : Texas, Sandwiches\n",
      "2. KFC : Texas, Fried Chicken, Fast Food\n",
      "\n",
      "Based on the recommendations provided in Texas, I would suggest trying out KFC for some delicious fried chicken and fast food experience. If you're in the mood for sandwiches, SUBWAY is a good option as well. Both restaurants offer a casual dining experience suitable for a quick meal on the go.\n",
      "\n"
     ]
    }
   ],
   "source": [
    "debug_recommendation = get_chat_completions(debug_conversation_reco)\n",
    "print(debug_recommendation + '\\n')"
   ]
  },
  {
   "cell_type": "markdown",
   "id": "4ad208c0",
   "metadata": {
    "id": "4ad208c0"
   },
   "source": [
    "Now, you can converse with the chatbot on the filtered products."
   ]
  },
  {
   "cell_type": "code",
   "execution_count": 61,
   "id": "ad228dc6",
   "metadata": {
    "id": "ad228dc6"
   },
   "outputs": [],
   "source": [
    "debug_conversation_reco.append({\"role\": \"user\", \"content\": \"This is my user profile\" + str(response_dict_n)})\n",
    "debug_conversation_reco.append({\"role\": \"assistant\", \"content\": debug_recommendation})"
   ]
  },
  {
   "cell_type": "code",
   "execution_count": 62,
   "id": "8885e9fc",
   "metadata": {
    "colab": {
     "base_uri": "https://localhost:8080/",
     "height": 91
    },
    "id": "8885e9fc",
    "outputId": "ce53a9ec-a4c9-44ca-cb82-deb521614158"
   },
   "outputs": [
    {
     "data": {
      "text/plain": [
       "'\\n1. SUBWAY : Texas, Sandwiches\\n2. KFC : Texas, Fried Chicken, Fast Food\\n\\nHi Krishna! Based on your user profile and the recommendations available in Texas, I would recommend trying out KFC for a fulfilling dinner experience. Enjoy some delicious fried chicken and fast food options at KFC. If you prefer sandwiches, SUBWAY is also a good choice for a quick and satisfying meal. Both restaurants offer dine-in options and fall within an average price range. Have a great dinner!\\n'"
      ]
     },
     "metadata": {},
     "output_type": "display_data"
    }
   ],
   "source": [
    "debug_conversation_reco.append({\"role\": \"user\", \"content\": debug_user_input})\n",
    "debug_response_asst_reco = get_chat_completions(debug_conversation_reco)\n",
    "display('\\n' + debug_response_asst_reco + '\\n')"
   ]
  },
  {
   "cell_type": "markdown",
   "id": "8156fc35",
   "metadata": {
    "id": "8156fc35"
   },
   "source": [
    "### Dialogue Management System\n",
    "\n",
    "Bringing everything together, we create a `diagloue_mgmt_system()` function that contains the logic of how the different layers would interact with each other. This will be the function that we'll call to initiate the chatbot"
   ]
  },
  {
   "cell_type": "code",
   "execution_count": 77,
   "id": "K4oHQZqsUmre",
   "metadata": {
    "id": "K4oHQZqsUmre"
   },
   "outputs": [],
   "source": [
    "def dialogue_mgmt_system():\n",
    "    conversation = initialize_conversation()\n",
    "\n",
    "    introduction = get_chat_completions(conversation)\n",
    "\n",
    "    print(introduction)\n",
    "\n",
    "    top_restaurants = None\n",
    "\n",
    "    user_input = ''\n",
    "\n",
    "    while(user_input.lower() != \"exit\"):\n",
    "\n",
    "        user_input = input(\"\")\n",
    "\n",
    "        moderation = moderation_check(user_input)\n",
    "        if moderation == 'Flagged':\n",
    "            display(\"Sorry, this message has been flagged. Please restart your conversation.\")\n",
    "            break\n",
    "\n",
    "        if top_restaurants is None:\n",
    "\n",
    "            conversation.append({\"role\": \"user\", \"content\": user_input})\n",
    "            response_assistant = get_chat_completions(conversation)\n",
    "            moderation = moderation_check(response_assistant)\n",
    "            if moderation == 'Flagged':\n",
    "                display(\"Sorry, this message has been flagged. Please restart your conversation.\")\n",
    "                break\n",
    "\n",
    "            confirmation = intent_confirmation_layer(response_assistant)\n",
    "#             print(\"Intent Confirmation Yes/No:\",confirmation.get('result'))\n",
    "\n",
    "            if \"No\" in confirmation.get('result'):\n",
    "                conversation.append({\"role\": \"assistant\", \"content\": str(response_assistant)})\n",
    "                print(\"\\n\" + str(response_assistant) + \"\\n\")\n",
    "\n",
    "            else:\n",
    "                print(\"\\n\" + str(response_assistant) + \"\\n\")\n",
    "#                 print('\\n' + \"Variables extracted!\" + '\\n')\n",
    "                response = dictionary_present(response_assistant)\n",
    "\n",
    "                print(\"Thank you for providing all the information. Kindly wait, while I recommend restaurants: \\n\")\n",
    "                top_restaurants = compare_with_user_preferences(restaurant_data,response_dict_n)\n",
    "\n",
    "                validated_reco = recommendation_validation(top_restaurants)\n",
    "\n",
    "                conversation_reco = initialize_conv_reco(validated_reco)\n",
    "\n",
    "                conversation_reco.append({\"role\": \"user\", \"content\": \"This is my user profile\" + str(response)})\n",
    "\n",
    "                recommendation = get_chat_completions(conversation_reco)\n",
    "\n",
    "                moderation = moderation_check(recommendation)\n",
    "                if moderation == 'Flagged':\n",
    "                    display(\"Sorry, this message has been flagged. Please restart your conversation.\")\n",
    "                    break\n",
    "\n",
    "                conversation_reco.append({\"role\": \"assistant\", \"content\": str(recommendation)})\n",
    "\n",
    "                print(str(recommendation) + '\\n')\n",
    "        else:\n",
    "            conversation_reco.append({\"role\": \"user\", \"content\": user_input})\n",
    "\n",
    "            response_asst_reco = get_chat_completions(conversation_reco)\n",
    "\n",
    "            moderation = moderation_check(response_asst_reco)\n",
    "            if moderation == 'Flagged':\n",
    "                print(\"Sorry, this message has been flagged. Please restart your conversation.\")\n",
    "                break\n",
    "\n",
    "            print('\\n' + response_asst_reco + '\\n')\n",
    "            conversation.append({\"role\": \"assistant\", \"content\": response_asst_reco})"
   ]
  },
  {
   "cell_type": "markdown",
   "id": "fc4edd62",
   "metadata": {},
   "source": [
    "Execute **dialogue_mgmt_system()** to run the restaurant recommendation assist chatbot"
   ]
  },
  {
   "cell_type": "code",
   "execution_count": 78,
   "id": "KI9EWNc16xxe",
   "metadata": {
    "colab": {
     "base_uri": "https://localhost:8080/",
     "height": 942
    },
    "id": "KI9EWNc16xxe",
    "outputId": "44e80d0d-4806-4707-fa68-9c41914bafc8"
   },
   "outputs": [
    {
     "name": "stdout",
     "output_type": "stream",
     "text": [
      "Welcome to the restaurant recommendation chat! I'm here to help you find the perfect place to dine. Please let me know your ideal location from the following states in the US - 'New York', 'Florida', 'California', 'Pennsylvania', 'Texas' or 'Washington'. You can type 'Exit' to end the chat at any time. So, where would you like to dine today?\n",
      "florida\n",
      "\n",
      "Welcome! I can help you find the perfect restaurant in Florida. \n",
      "What type of cuisine are you in the mood for today?\n",
      "\n",
      "chinese\n",
      "\n",
      "Great choice! Do you prefer dining in or takeout for your meal today?\n",
      "\n",
      "yes\n",
      "\n",
      "I'm sorry, I should have been clearer. Do you prefer to dine in at the restaurant or would you like to order takeout for your meal?\n",
      "\n",
      "dine in\n",
      "\n",
      "Would you prefer a restaurant with free parking facilities for your dine-in experience or is that not a requirement for you?\n",
      "\n",
      "yes\n",
      "\n",
      "Thank you for clarifying. And lastly, could you please let me know your budget for this meal? This will help me recommend restaurants that fit within your price range.\n",
      "\n",
      "100\n",
      "\n",
      "Thank you for providing that information. Based on your preferences for Chinese cuisine, dining in, free parking, and a budget of $100, I recommend trying out \"P.F. Chang's\" in Florida. They offer a great dining experience with a variety of Chinese dishes to choose from.\n",
      "\n",
      "Here is the final updated dictionary based on our conversation:\n",
      "{'cuisine': 'chinese', 'delivery location': 'Florida', 'is free parking': 'Yes', 'is dine-in': 'Yes', 'price range': 'above average'}\n",
      "\n",
      "hi\n",
      "\n",
      "Hi there! I'm here to help you find the perfect restaurant. Please let me know your ideal location or type 'Exit' to end the chat.\n",
      "\n",
      "exit\n",
      "\n",
      "Thank you for stopping by! If you ever need assistance in the future, feel free to reach out. Have a great day!\n",
      "\n"
     ]
    }
   ],
   "source": [
    "dialogue_mgmt_system()"
   ]
  },
  {
   "cell_type": "markdown",
   "id": "0d4ca9b1",
   "metadata": {
    "id": "0d4ca9b1"
   },
   "source": [
    "## Future Scope of Work and Conclusion"
   ]
  },
  {
   "cell_type": "markdown",
   "id": "8c227cad",
   "metadata": {
    "id": "8c227cad"
   },
   "source": [
    "### Future Scope of Work\n",
    "\n",
    "1. Now it is limited to a few states 'New York', 'Florida', 'California', 'Pennsylvania', 'Texas' and 'Washington’ in United States due to limited availability of data and time constraints for further web scraping. Need to extend this to the remaining states and gradually global wise.\n",
    "2. Integration with user interface (front end web) for user authentication and sharing recommendations.\n",
    "3. Incorporation of machine learning models for real-time personalization and recommendation refinement.\n",
    "\n"
   ]
  },
  {
   "cell_type": "markdown",
   "id": "d1a2f4b3",
   "metadata": {
    "id": "e086617a"
   },
   "source": [
    "###  Conclusion:\n",
    "\n",
    "The Restaurant Recommendation System aims to provide users with personalized recommendations based on their preferences, location, budget, and dietary restrictions. By leveraging data from multiple sources and implementing advanced recommendation algorithms, the system aims to enhance the dining experience for users and help them discover new dining options quickly and conveniently.\n",
    "\n"
   ]
  },
  {
   "cell_type": "code",
   "execution_count": null,
   "id": "354e8580",
   "metadata": {},
   "outputs": [],
   "source": []
  }
 ],
 "metadata": {
  "colab": {
   "provenance": [],
   "toc_visible": true
  },
  "kernelspec": {
   "display_name": "Python 3 (ipykernel)",
   "language": "python",
   "name": "python3"
  },
  "language_info": {
   "codemirror_mode": {
    "name": "ipython",
    "version": 3
   },
   "file_extension": ".py",
   "mimetype": "text/x-python",
   "name": "python",
   "nbconvert_exporter": "python",
   "pygments_lexer": "ipython3",
   "version": "3.9.12"
  }
 },
 "nbformat": 4,
 "nbformat_minor": 5
}
